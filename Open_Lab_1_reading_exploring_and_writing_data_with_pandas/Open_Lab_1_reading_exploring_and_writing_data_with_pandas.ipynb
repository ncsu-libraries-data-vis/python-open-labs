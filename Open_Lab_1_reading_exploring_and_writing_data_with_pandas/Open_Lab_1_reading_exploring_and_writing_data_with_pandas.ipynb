{
 "cells": [
  {
   "attachments": {},
   "cell_type": "markdown",
   "metadata": {
    "id": "FpbBQzdwReOX"
   },
   "source": [
    "# Python Open Labs: Reading, exploring, and writing data with Pandas\n",
    "\n",
    "## Setup\n",
    "With this Google Colaboratory (Colab) notebook open, click the \"Copy to Drive\" button that appears in the menu bar. The notebook will then be attached to your own user account, so you can edit it in any way you like -- you can even take notes directly in the notebook.\n",
    "\n",
    "\n",
    "## Open Labs agenda\n",
    "\n",
    "1.   **Guided activity**: One of the instructors will share their screen to work through the guided activity and teach concepts along the way.\n",
    "\n",
    "2.   **Open lab time**: After the guided portion of the Open Lab, the rest of the time is for you to ask questions, work collaboratively, or have self-guided practice time. You will have access to instructors and peers for questions and support.\n",
    "\n",
    "Breakout rooms will be available if you would like to work in small groups. If you have trouble joining a room, ask in the chat to be moved into a room.\n",
    "\n",
    "## Learning objectives\n",
    "\n",
    "By the end of our workshop today, we hope you'll understand what the pandas library is and be able to work with pandas data structures like a `Series` and a `DataFrame`.\n",
    "\n",
    "## Today's Topics\n",
    "- What is pandas, and how does it relate to Python?\n",
    "- Importing and using pandas\n",
    "- How to read data into pandas\n",
    "- Common pandas data structures (`Series` and `DataFrame`)\n",
    "- Referencing data in a `DataFrame`\n",
    "- How to write data from pandas\n",
    "\n",
    "## Questions during the workshop\n",
    "\n",
    "Please feel free to ask questions throughout the workshop.\n",
    "\n",
    "We have a second instructor who will available during the workshop. They will answer as able, and will collect questions with answers that might help everyone to be answered at the end of the workshop.\n",
    "\n",
    "The open lab time is when you will be able to ask more questions and work together on the exercises."
   ]
  },
  {
   "attachments": {},
   "cell_type": "markdown",
   "metadata": {
    "id": "YohJ7IZeTX31"
   },
   "source": [
    "### Using Jupyter Notebooks and Google Colaboratory\n",
    "\n",
    "Jupyter notebooks are a way to write and run Python code in an interactive way. They're quickly becoming a standard way of putting together data, code, and written explanations or visualizations into a single document and sharing that. There are a lot of ways that you can run Jupyter notebooks, including just locally on your computer, but we've decided to use Google's Colaboratory notebook platform for this workshop.  Colaboratory is “a Google research project created to help disseminate machine learning education and research.”  If you would like to know more about Colaboratory in general, you can visit the [Welcome Notebook](https://colab.research.google.com/notebooks/welcome.ipynb).\n",
    "\n",
    "Using the Google Colaboratory platform allows us to focus on learning and writing Python in the workshop rather than on setting up Python, which can sometimes take a bit of extra work depending on platforms, operating systems, and other installed applications. If you'd like to install a Python distribution locally, though, we're happy to help. Feel free to [get help from our graduate consultants](https://go.ncsu.edu/getdatahelp) or [schedule an appointment with Libraries staff](https://go.ncsu.edu/dvs-request)."
   ]
  },
  {
   "attachments": {},
   "cell_type": "markdown",
   "metadata": {
    "id": "diWLAlRBTsWT"
   },
   "source": [
    "## Guided Instruction\n",
    "This week we're introducing the Pandas library for Python and working on importing, viewing, and referencing the data.\n",
    "\n",
    "In this section, we will work through examples using data from the [Museum of Modern Art (MoMA) research dataset](https://github.com/MuseumofModernArt/collection) containing records of all of the works that have been cataloged in the database of the MoMA collection.\n",
    "\n",
    "> \"The Museum’s website features 89,695 artworks from 26,494 artists. This research dataset contains 138,151 records, representing all of the works that have been accessioned into MoMA’s collection and cataloged in our database. It includes basic metadata for each work, including title, artist, date made, medium, dimensions, and date acquired by the Museum. Some of these records have incomplete information and are noted as “not Curator Approved.\" - [MoMA Github repository for collection data](https://github.com/MuseumofModernArt/collection)\n",
    "\n",
    "We have split the dataset into several different subsections (paintings, sculptures, photographs, and artist information) and file types to use in activities. We will be referencing the data that we have prepared in our [Github repository for teaching datasets](https://github.com/ncsu-libraries-data-vis/teaching-datasets/tree/main/moma_data)."
   ]
  },
  {
   "attachments": {},
   "cell_type": "markdown",
   "metadata": {
    "id": "K1QD9jJmyLZ0"
   },
   "source": [
    "### What is a Python library?\n",
    "\n",
    "A \"Library\" in this context is a package of code that adds to the functionality of Python. Base Python offers a lot of features, but not everything -- Python libraries can be imported at the beginning of your code to use for your specific purpose. \n",
    "\n",
    "For example, you may import Matplotlib to create graphs and plots, or Natural Language Toolkit (NLTK) to do natural language processing. Today we will be using the pandas library to manipulate a dataset.\n",
    "\n",
    "Google Colab has many popular libraries, including pandas, numpy, tensorflow, matplotlib, preinstalled, meaning you do not need to use pip or other package managers to install these libraries."
   ]
  },
  {
   "attachments": {},
   "cell_type": "markdown",
   "metadata": {
    "id": "QBRN6sBjFn5m"
   },
   "source": [
    "### What is Pandas?\n",
    "\n",
    "Pandas is a high-level data manipulation tool first created in 2008 by Wes McKinney. The name comes from the term “panel data,” an econometrics term for data sets that include observations over multiple time periods for the same individuals.<sup>[[wikipedia](https://en.wikipedia.org/wiki/Pandas_(software))]</sup>\n",
    "\n",
    "From Jake Vanderplas’ book [**Python Data Science Handbook**](http://shop.oreilly.com/product/0636920034919.do):\n",
    "\n",
    "> As well as offering a convenient storage interface for labeled data, Pandas implements a number of powerful data operations familiar to users of both database frameworks and spreadsheet programs.\n",
    "\n",
    "#### What does Pandas do?\n",
    "* Reading and writing data from persistent storage\n",
    "* Cleaning, filtering, and otherwise preparing data\n",
    "* Calculating statistics and analyzing data\n",
    "* Visualization with help from Matplotlib\n",
    "\n",
    "We can learn more about Pandas by using the help window in Google Colab."
   ]
  },
  {
   "cell_type": "code",
   "execution_count": null,
   "metadata": {
    "id": "jj_TJHcDcdnC"
   },
   "outputs": [],
   "source": [
    "# Type the function with a question mark afterwards and run the code to pull up a help window.\n",
    "# Here we will find out more about Pandas\n",
    "pd?"
   ]
  },
  {
   "attachments": {},
   "cell_type": "markdown",
   "metadata": {
    "id": "s1V43ndUUeCd"
   },
   "source": [
    "### Importing a Python library\n",
    "\n",
    "To use any library, we must import it into our Python document."
   ]
  },
  {
   "cell_type": "code",
   "execution_count": null,
   "metadata": {
    "id": "PDoDt0yF4Pxs"
   },
   "outputs": [],
   "source": [
    "# Import the Pandas library as pd (callable in our code as pd)\n"
   ]
  },
  {
   "attachments": {},
   "cell_type": "markdown",
   "metadata": {
    "id": "Df1997BxURKU"
   },
   "source": [
    "### Importing files into Pandas\n",
    "We have prepared the data from the MoMA dataset for this workshop. We will import those datasets into our notebook to use them for data analysis.\n",
    "\n",
    "Datasets can be stored in several types of files, including .csv, .json, .txt, .xls, .xlsx, and more. Here we will import a .csv file and a .json file.\n",
    "\n",
    "- [Preview the CSV file](https://raw.githubusercontent.com/ncsu-libraries-data-vis/teaching-datasets/main/moma_data/moma_paintings.csv)\n",
    "- [Preview the JSON file](https://raw.githubusercontent.com/ncsu-libraries-data-vis/teaching-datasets/main/moma_data/moma_sculptures.json)"
   ]
  },
  {
   "attachments": {},
   "cell_type": "markdown",
   "metadata": {
    "id": "cTp3Z1jhe-8O"
   },
   "source": [
    "CSV Files\n",
    "\n",
    "A comma separated values (CSV) file is a plain text file containing data separated by commas."
   ]
  },
  {
   "cell_type": "code",
   "execution_count": null,
   "metadata": {},
   "outputs": [],
   "source": [
    "# Import a comma-sperated values (csv) file as a DataFrame\n",
    "\n",
    "# The file location\n",
    "csv_file_url = 'https://raw.githubusercontent.com/ncsu-libraries-data-vis/teaching-datasets/main/moma_data/moma_paintings.csv'\n",
    "\n",
    "# Read in the file and print out the DataFrame\n"
   ]
  },
  {
   "attachments": {},
   "cell_type": "markdown",
   "metadata": {
    "id": "9NK-iUJ9buc9"
   },
   "source": [
    "JSON Files\n",
    "\n",
    "JSON (JavaScript Object Notation) is a data storage format that uses name/value pairs to create objects and associative arrays. Learn more about [JSON files structure and syntax from W3Schools](https://www.w3schools.com/js/js_json_syntax.asp)"
   ]
  },
  {
   "cell_type": "code",
   "execution_count": null,
   "metadata": {
    "id": "sMH_cCgeVLhs"
   },
   "outputs": [],
   "source": [
    "# Importing a JavaScript object notation (JSON) file\n",
    "\n",
    "# The file location\n",
    "json_file_url = 'https://raw.githubusercontent.com/ncsu-libraries-data-vis/teaching-datasets/main/moma_data/moma_sculptures.json'\n",
    "\n",
    "# Read in the file and print out the DataFrame\n"
   ]
  },
  {
   "attachments": {},
   "cell_type": "markdown",
   "metadata": {
    "id": "xp61Ys2oVPZj"
   },
   "source": [
    "### Pandas data structures\n",
    "\n",
    "Pandas uses two main data structures: `Series` and `DataFrame`.\n",
    "\n",
    "<img src=\"https://raw.githubusercontent.com/NCSU-Libraries/data-viz-workshops/master/Data_Manipulation_with_Python/assets/nc_dataframes.png\" alt=\"DataFrames are composed of Series\" width=\"80%\">"
   ]
  },
  {
   "attachments": {},
   "cell_type": "markdown",
   "metadata": {
    "id": "Y_CkSgllUPuY"
   },
   "source": [
    "#### `Series`\n",
    "A `Series` is a one-dimensional array of indexed data, or a single column of data. It can be thought of as a specialized dictionary or a generalized NumPy array. You can learn more about the Series data type in the [Pandas documentation for Series](https://pandas.pydata.org/pandas-docs/stable/reference/series.html)."
   ]
  },
  {
   "attachments": {},
   "cell_type": "markdown",
   "metadata": {
    "id": "KYWGQkIuUSwI"
   },
   "source": [
    "#### `DataFrame`\n",
    "A `DataFrame` is a two-dimensional array composed of one or more `Series`, similar to tabluar data (think of Excel). They can optionally have an `Index` and have flexible row indices and flexible column names. \n",
    "\n",
    "It can be thought of as a generalization of a two-dimensional NumPy array, or a specialization of a dictionary in which each column name maps to a `Series` of column data. You can learn more about the DataFrame data type in the [Pandas documentation for DataFrame](https://pandas.pydata.org/pandas-docs/stable/reference/frame.html).\n",
    "\n",
    "A `DataFrame` is made up of `Series` in a similar way in which a table is made up of columns. The only restriction is that each column must be of the same data type.  Many of the operations that can be performed on a `DataFrame` can also be performed on an individual `Series`."
   ]
  },
  {
   "cell_type": "code",
   "execution_count": null,
   "metadata": {
    "id": "EDTANvgUVRzr"
   },
   "outputs": [],
   "source": [
    "# The csv file we imported earlier was stored in a DataFrame.\n",
    "# Let's look at that data:\n"
   ]
  },
  {
   "cell_type": "code",
   "execution_count": null,
   "metadata": {
    "colab": {
     "base_uri": "https://localhost:8080/"
    },
    "executionInfo": {
     "elapsed": 2773,
     "status": "ok",
     "timestamp": 1614790828479,
     "user": {
      "displayName": "Ashley Evans Bandy",
      "photoUrl": "https://lh3.googleusercontent.com/a-/AOh14GiEnggm2Xb6QnXpmQaXw4S5OovXByctlJmtN-OizA=s64",
      "userId": "14475997041039881783"
     },
     "user_tz": 300
    },
    "id": "fbokiHAn0RwT",
    "outputId": "92a39162-6945-43d4-dd39-edc2b2f5c942"
   },
   "outputs": [],
   "source": [
    "# You can also view the \"shape\" of the Dataframe\n",
    "# This tells you how many rows and columns there are\n"
   ]
  },
  {
   "cell_type": "code",
   "execution_count": null,
   "metadata": {
    "colab": {
     "base_uri": "https://localhost:8080/"
    },
    "executionInfo": {
     "elapsed": 2767,
     "status": "ok",
     "timestamp": 1614790828479,
     "user": {
      "displayName": "Ashley Evans Bandy",
      "photoUrl": "https://lh3.googleusercontent.com/a-/AOh14GiEnggm2Xb6QnXpmQaXw4S5OovXByctlJmtN-OizA=s64",
      "userId": "14475997041039881783"
     },
     "user_tz": 300
    },
    "id": "CfjKNKV5F5Ls",
    "outputId": "4b38fe9e-a252-4166-a847-110b5c738de7"
   },
   "outputs": [],
   "source": [
    "# A Series is a one-dimensional array, or one column of data\n",
    "# When we take one column of a DataFrame, it is represented as a Series\n"
   ]
  },
  {
   "cell_type": "code",
   "execution_count": null,
   "metadata": {
    "id": "14A4pjHcGmcy"
   },
   "outputs": [],
   "source": [
    "# Now that we have created a Series, let's look at the data:\n"
   ]
  },
  {
   "cell_type": "code",
   "execution_count": null,
   "metadata": {
    "colab": {
     "base_uri": "https://localhost:8080/"
    },
    "executionInfo": {
     "elapsed": 2757,
     "status": "ok",
     "timestamp": 1614790828481,
     "user": {
      "displayName": "Ashley Evans Bandy",
      "photoUrl": "https://lh3.googleusercontent.com/a-/AOh14GiEnggm2Xb6QnXpmQaXw4S5OovXByctlJmtN-OizA=s64",
      "userId": "14475997041039881783"
     },
     "user_tz": 300
    },
    "id": "Z_jG372DGpLD",
    "outputId": "6ef53dd0-c00d-40bd-d2ea-6c8683b125c8"
   },
   "outputs": [],
   "source": [
    "# You can also see the shape of a Series\n",
    "# Since a Series only has one column, it will tell you how many rows there are\n"
   ]
  },
  {
   "cell_type": "code",
   "execution_count": null,
   "metadata": {
    "id": "i9_dDcgO1c_B"
   },
   "outputs": [],
   "source": [
    "# You can convert a Series to a list with to_list()\n"
   ]
  },
  {
   "attachments": {},
   "cell_type": "markdown",
   "metadata": {
    "id": "LSSnc8FyVycL"
   },
   "source": [
    "### Exploring your data\n",
    "\n",
    "Now that we have our data, we can use Pandas to explore our data for analysis. This can be useful if you are new to a dataset to see what's there and how you should start analyzing."
   ]
  },
  {
   "attachments": {},
   "cell_type": "markdown",
   "metadata": {
    "id": "QYn7Bu8rHv6i"
   },
   "source": [
    "#### View DataFrame column labels\n",
    "\n",
    "Our DataFrame has 25 columns. We can quickly view the label names for each column using the DataFrame `columns` property."
   ]
  },
  {
   "cell_type": "code",
   "execution_count": null,
   "metadata": {
    "id": "IGHafxVsHaLG"
   },
   "outputs": [],
   "source": [
    "# View column labels (headers)\n"
   ]
  },
  {
   "attachments": {},
   "cell_type": "markdown",
   "metadata": {
    "id": "DrgiOCTevH3P"
   },
   "source": [
    "#### View summaries of a DataFrame\n",
    "\n",
    "We can quickly generate summaries of our DataFrame to observe some basic statistics and information such as column data types and non-null value counts."
   ]
  },
  {
   "cell_type": "code",
   "execution_count": null,
   "metadata": {
    "id": "RB9nwV--sd5a"
   },
   "outputs": [],
   "source": [
    "# Get summary statistics of DataFrame columns using \"describe()\" (only includes\n",
    "# numerical data types)\n"
   ]
  },
  {
   "cell_type": "code",
   "execution_count": null,
   "metadata": {
    "colab": {
     "base_uri": "https://localhost:8080/"
    },
    "executionInfo": {
     "elapsed": 2735,
     "status": "ok",
     "timestamp": 1614790828484,
     "user": {
      "displayName": "Ashley Evans Bandy",
      "photoUrl": "https://lh3.googleusercontent.com/a-/AOh14GiEnggm2Xb6QnXpmQaXw4S5OovXByctlJmtN-OizA=s64",
      "userId": "14475997041039881783"
     },
     "user_tz": 300
    },
    "id": "nOCCBvV043UT",
    "outputId": "ee3b8276-4391-4e82-9e89-95a364991a7c"
   },
   "outputs": [],
   "source": [
    "# Get summary statistics of single column using \"describe()\"\n"
   ]
  },
  {
   "cell_type": "code",
   "execution_count": null,
   "metadata": {
    "id": "dI5VjlC71rY8"
   },
   "outputs": [],
   "source": [
    "# Summarize column data types, non-null values, and memory usage using \"info()\"\n"
   ]
  },
  {
   "attachments": {},
   "cell_type": "markdown",
   "metadata": {
    "id": "LJccXIWLH98S"
   },
   "source": [
    "#### Referencing and indexing a DataFrame"
   ]
  },
  {
   "attachments": {},
   "cell_type": "markdown",
   "metadata": {
    "id": "ql6K-MTxXjAh"
   },
   "source": [
    "Referencing Rows"
   ]
  },
  {
   "cell_type": "code",
   "execution_count": null,
   "metadata": {
    "id": "98nMIhphH6kP"
   },
   "outputs": [],
   "source": [
    "# Reference a row by index label\n",
    "# Returns a Series\n",
    "\n",
    "# Access first row of paintings_csv by index label\n",
    "# In this case the index label is 0\n",
    "\n",
    "\n",
    "# Access first row of sculptures_json by index label\n",
    "# In this case the index label is not 0\n"
   ]
  },
  {
   "cell_type": "code",
   "execution_count": null,
   "metadata": {
    "colab": {
     "base_uri": "https://localhost:8080/",
     "height": 505
    },
    "executionInfo": {
     "elapsed": 3465,
     "status": "ok",
     "timestamp": 1614790829247,
     "user": {
      "displayName": "Ashley Evans Bandy",
      "photoUrl": "https://lh3.googleusercontent.com/a-/AOh14GiEnggm2Xb6QnXpmQaXw4S5OovXByctlJmtN-OizA=s64",
      "userId": "14475997041039881783"
     },
     "user_tz": 300
    },
    "id": "vld2Jz8ZKgdH",
    "outputId": "30e19d6c-8c15-47a0-c0f1-994dc4e9f093"
   },
   "outputs": [],
   "source": [
    "# Reference multiple rows by index label (in this case the index label 0 through 2)\n",
    "# Returns a DataFrame\n"
   ]
  },
  {
   "cell_type": "code",
   "execution_count": null,
   "metadata": {
    "id": "FtY5Fh_ZH6EB"
   },
   "outputs": [],
   "source": [
    "# Reference a row or multiple rows by zero-based integer position\n",
    "\n",
    "# Access first row of paintings_csv by row integer value\n",
    "# In this case the row is row 0\n",
    "\n",
    "\n",
    "# Access first row of sculptures_json by row integer value\n",
    "# In this case the row is also row 0\n"
   ]
  },
  {
   "cell_type": "code",
   "execution_count": null,
   "metadata": {
    "id": "54qnMnQ_K82s"
   },
   "outputs": [],
   "source": [
    "# Reference multiple rows by row number (in this case rows 0 through 2)\n",
    "# Note that this time the range doesn't include the stop number\n"
   ]
  },
  {
   "attachments": {},
   "cell_type": "markdown",
   "metadata": {
    "id": "DCdFsQCSXmrB"
   },
   "source": [
    "Referencing Columns"
   ]
  },
  {
   "cell_type": "code",
   "execution_count": null,
   "metadata": {
    "id": "nP0sJUqTH-bj"
   },
   "outputs": [],
   "source": [
    "# Referencing a column by column label (in this case, \"Medium\")\n"
   ]
  },
  {
   "cell_type": "code",
   "execution_count": null,
   "metadata": {
    "id": "l_QFuy9xH-SY"
   },
   "outputs": [],
   "source": [
    "# Referencing multiple columns by a list of column labels \n",
    "# (in this case, the columns \"Medium\" and \"Dimensions\")\n"
   ]
  },
  {
   "attachments": {},
   "cell_type": "markdown",
   "metadata": {
    "id": "ofsu9wMSX37b"
   },
   "source": [
    "Referencing both rows and columns"
   ]
  },
  {
   "cell_type": "code",
   "execution_count": null,
   "metadata": {
    "id": "Mo6ItH-WIEvh"
   },
   "outputs": [],
   "source": [
    "# Referencing a subset of rows and columns using index and column labels\n",
    "# Note that we're using a range of column labels instead of a list\n",
    "# Make sure that your column range starts with the leftmost label\n"
   ]
  },
  {
   "attachments": {},
   "cell_type": "markdown",
   "metadata": {},
   "source": [
    "The fastest way to reference rows and columns in pandas is by using `loc` and `iloc`. Just be aware that while sometimes they are interchangeable, other times they are not. `iloc` is going to want integers as the inputs, whereas `loc` is looking for label names (which can be integers, but can be other datatypes as well). \n",
    "\n",
    "Refer to [this article](https://towardsdatascience.com/how-to-use-loc-and-iloc-for-selecting-data-in-pandas-bd09cb4c3d79) for a longer explanation of the similarities and differences between `loc` and `iloc`."
   ]
  },
  {
   "attachments": {},
   "cell_type": "markdown",
   "metadata": {
    "id": "vqjDtbr4OvIL"
   },
   "source": [
    "### Writing data to a file"
   ]
  },
  {
   "cell_type": "code",
   "execution_count": null,
   "metadata": {
    "id": "Pu5h4CcfOxzr"
   },
   "outputs": [],
   "source": [
    "# Save the subset from the previous cell in a variable\n",
    "\n",
    "\n",
    "# Write to csv\n"
   ]
  },
  {
   "cell_type": "code",
   "execution_count": null,
   "metadata": {
    "id": "p1Te-Bz5lKpZ"
   },
   "outputs": [],
   "source": [
    "#Write to an Excel file\n"
   ]
  },
  {
   "cell_type": "code",
   "execution_count": null,
   "metadata": {
    "id": "ZzIcnroVlK7B"
   },
   "outputs": [],
   "source": [
    "# Write to a JSON file\n"
   ]
  },
  {
   "attachments": {},
   "cell_type": "markdown",
   "metadata": {
    "id": "x7fVAHmIWYcC"
   },
   "source": [
    "----\n",
    "## Open work time\n",
    "You can use this time to ask questions, collaborate, or work on the following activities (on your own or in a group). "
   ]
  },
  {
   "attachments": {},
   "cell_type": "markdown",
   "metadata": {
    "id": "ipiIOjUiGIA3"
   },
   "source": [
    "### Exercise 1: Read in an Excel file\n",
    "Take this Excel file, read it into a DataFrame, and print out the first five rows of the DataFrame.\n",
    "\n",
    "\n",
    "\n",
    "> Hint: the syntax is very similar to reading a .csv file.\n",
    "\n",
    "\n",
    "\n",
    "Link to the file: https://github.com/ncsu-libraries-data-vis/teaching-datasets/blob/main/moma_data/moma_photographs.xlsx?raw=true"
   ]
  },
  {
   "cell_type": "code",
   "execution_count": null,
   "metadata": {
    "colab": {
     "base_uri": "https://localhost:8080/",
     "height": 533
    },
    "executionInfo": {
     "elapsed": 2343,
     "status": "ok",
     "timestamp": 1614791484014,
     "user": {
      "displayName": "Ashley Evans Bandy",
      "photoUrl": "https://lh3.googleusercontent.com/a-/AOh14GiEnggm2Xb6QnXpmQaXw4S5OovXByctlJmtN-OizA=s64",
      "userId": "14475997041039881783"
     },
     "user_tz": 300
    },
    "id": "Ji--t8MFcdLL",
    "outputId": "ed1c6359-6b6a-40b9-8d11-f35196600b46"
   },
   "outputs": [],
   "source": []
  },
  {
   "attachments": {},
   "cell_type": "markdown",
   "metadata": {
    "id": "qEWRXGuubDfE"
   },
   "source": [
    "### Exercise 2: Indexing cells\n",
    "\n",
    "Use referencing and indexing to answer the following questions by finding the data in the rows, columns, and/or cells. \n",
    "\n"
   ]
  },
  {
   "attachments": {},
   "cell_type": "markdown",
   "metadata": {
    "id": "WfxKanr3aY6F"
   },
   "source": [
    "#### 2a. Titles\n",
    "Create a `Series` of the title of each piece of artwork. (`Titles`)"
   ]
  },
  {
   "cell_type": "code",
   "execution_count": null,
   "metadata": {
    "colab": {
     "base_uri": "https://localhost:8080/"
    },
    "executionInfo": {
     "elapsed": 703,
     "status": "ok",
     "timestamp": 1614791708046,
     "user": {
      "displayName": "Ashley Evans Bandy",
      "photoUrl": "https://lh3.googleusercontent.com/a-/AOh14GiEnggm2Xb6QnXpmQaXw4S5OovXByctlJmtN-OizA=s64",
      "userId": "14475997041039881783"
     },
     "user_tz": 300
    },
    "id": "9HrY_oNqckxz",
    "outputId": "81dcb32f-4b4a-40f4-98bb-4c816fe9d37c"
   },
   "outputs": [],
   "source": [
    "# 2a. Create a `Series` of the titles (`Title`)\n"
   ]
  },
  {
   "attachments": {},
   "cell_type": "markdown",
   "metadata": {
    "id": "nlEFmkWgabWq"
   },
   "source": [
    "#### 2b. Date and time\n",
    "We want to compare artists with their medium of choice. Which artists used which mediums? Print the columns from the data for the artist, the date of the artwork, and the medium (`Artist`, `Date`, and `Medium`).\n",
    "\n"
   ]
  },
  {
   "cell_type": "code",
   "execution_count": null,
   "metadata": {
    "colab": {
     "base_uri": "https://localhost:8080/",
     "height": 424
    },
    "executionInfo": {
     "elapsed": 5170,
     "status": "ok",
     "timestamp": 1614790831016,
     "user": {
      "displayName": "Ashley Evans Bandy",
      "photoUrl": "https://lh3.googleusercontent.com/a-/AOh14GiEnggm2Xb6QnXpmQaXw4S5OovXByctlJmtN-OizA=s64",
      "userId": "14475997041039881783"
     },
     "user_tz": 300
    },
    "id": "KBaZgZcSckqD",
    "outputId": "49debeb2-0138-4d05-dc02-45423db275e9"
   },
   "outputs": [],
   "source": [
    "# 2b. Print the columns from the data for the artist, the date of the artwork, and the medium\n",
    "# (`Artist`, `Date`, and `Medium`)\n"
   ]
  },
  {
   "attachments": {},
   "cell_type": "markdown",
   "metadata": {
    "id": "Vn0xaQufdoWm"
   },
   "source": [
    "#### 2c. Access the 124th row\n",
    "\n",
    "Use row indexing to find the data in the 124th row in the `sculptures_json` DataFrame. Check that your result is correct by making sure the `Title` value is `Untitled (Tangle)`.\n",
    "\n",
    "> Tip: Remember that the integer-based row location is zero based"
   ]
  },
  {
   "cell_type": "code",
   "execution_count": null,
   "metadata": {
    "colab": {
     "base_uri": "https://localhost:8080/"
    },
    "executionInfo": {
     "elapsed": 5168,
     "status": "ok",
     "timestamp": 1614790831018,
     "user": {
      "displayName": "Ashley Evans Bandy",
      "photoUrl": "https://lh3.googleusercontent.com/a-/AOh14GiEnggm2Xb6QnXpmQaXw4S5OovXByctlJmtN-OizA=s64",
      "userId": "14475997041039881783"
     },
     "user_tz": 300
    },
    "id": "q3Bs5MEAeAtn",
    "outputId": "f093ed85-03a7-4899-ce1d-3d78931975d0"
   },
   "outputs": [],
   "source": [
    "# 2c. Access the 124th row from the 'sculptures_json` DataFrame\n"
   ]
  },
  {
   "attachments": {},
   "cell_type": "markdown",
   "metadata": {
    "id": "ua1uIGpgad7i"
   },
   "source": [
    "#### 2d. Jacob Lawrence exhibit dimensions\n",
    "To set up for an exhibit of Jacob Lawrence's work, the curators need to see which items will fit in the space. Print rows 173-178 and the columns `Artist`, `Medium`, `Height (cm)`,`Width (cm)` from the .csv file containing paintings data."
   ]
  },
  {
   "cell_type": "code",
   "execution_count": null,
   "metadata": {
    "colab": {
     "base_uri": "https://localhost:8080/",
     "height": 237
    },
    "executionInfo": {
     "elapsed": 5160,
     "status": "ok",
     "timestamp": 1614790831018,
     "user": {
      "displayName": "Ashley Evans Bandy",
      "photoUrl": "https://lh3.googleusercontent.com/a-/AOh14GiEnggm2Xb6QnXpmQaXw4S5OovXByctlJmtN-OizA=s64",
      "userId": "14475997041039881783"
     },
     "user_tz": 300
    },
    "id": "z0Ysc1yuckhC",
    "outputId": "2822bdcb-5890-4eaf-affe-fc9bc2a5fea4"
   },
   "outputs": [],
   "source": [
    "# 2d. Print rows 173-178 and the columns `Artist`, `Medium`, `Height (cm)`,`Width (cm)`.\n"
   ]
  },
  {
   "attachments": {},
   "cell_type": "markdown",
   "metadata": {
    "id": "9aREW1K4anHc"
   },
   "source": [
    "### Exercise 3: Write to a file\n",
    "Take the your result in exercise 2d. (or another DataFrame you have created), and write it to a .csv file."
   ]
  },
  {
   "cell_type": "code",
   "execution_count": null,
   "metadata": {
    "id": "9lL37D4hcg2b"
   },
   "outputs": [],
   "source": [
    "# Write to a new .csv file\n"
   ]
  },
  {
   "attachments": {},
   "cell_type": "markdown",
   "metadata": {
    "id": "N_dY4wqNdRSD"
   },
   "source": [
    "## Further resources\n",
    "\n",
    "### Filled version of this notebook\n",
    "\n",
    "[Python Open Labs Week 1 filled notebook](https://colab.research.google.com/github/ncsu-libraries-data-vis/python-open-labs/blob/main/Open_Lab_1_reading_exploring_and_writing_data_with_pandas/filled_Open_Lab_1_reading_exploring_and_writing_data_with_pandas.ipynb) - a version of this notebook with all code filled in for the guided activity and exercises.\n",
    "### Learning resources\n",
    "\n",
    "- [Python Data Science Handbook](https://jakevdp.github.io/PythonDataScienceHandbook/index.html) - a free, online version of Jake VanderPlas' introduction to data science with Python, includes a chapter on data manipulation with pandas.\n",
    "- [Python Programming for Data Science](https://www.tomasbeuzen.com/python-programming-for-data-science/README.html) - a website providing a great overview of conducting data science with Python including pandas.\n",
    "- [Real Python](https://realpython.com/) contains a lot of different tutorials at different levels\n",
    "- [LinkedIn Learning](https://www.lynda.com/Python-training-tutorials/415-0.html) is free with NC State accounts and contains several video series for learning Python\n",
    "- [Dataquest](https://www.dataquest.io/) is a free then paid series of courses with an emphasis on data science\n",
    "\n",
    "### Finding help with pandas\n",
    "\n",
    "The [Pandas website](https://pandas.pydata.org/) and [online documentation](http://pandas.pydata.org/pandas-docs/stable/) are useful resources, and of course the indispensible [Stack Overflow has a \"pandas\" tag](https://stackoverflow.com/questions/tagged/pandas).  There is also a (much younger, much smaller) [sister site dedicated to Data Science questions that has a \"pandas\" tag](https://datascience.stackexchange.com/questions/tagged/pandas) too."
   ]
  },
  {
   "attachments": {},
   "cell_type": "markdown",
   "metadata": {
    "id": "MAAF-mLyRqeE"
   },
   "source": [
    "## Evaluation Survey\n",
    "Please, spend 1 minute answering these questions that help improve future workshops.\n",
    "\n",
    "https://go.ncsu.edu/dvs-eval"
   ]
  },
  {
   "attachments": {},
   "cell_type": "markdown",
   "metadata": {
    "id": "i6Sj-7OYR5JL"
   },
   "source": [
    "## Credits\n",
    "\n",
    "This workshop was created by Claire Cahoon and Walt Gurley, adapted from previous workshop materials by Scott Bailey and Simon Wiles, of Stanford Libraries."
   ]
  }
 ],
 "metadata": {
  "colab": {
   "collapsed_sections": [],
   "name": "Python_Open_Labs_Week1.ipynb",
   "provenance": [],
   "toc_visible": true
  },
  "kernelspec": {
   "display_name": "Python 3.9.7 ('base')",
   "language": "python",
   "name": "python3"
  },
  "language_info": {
   "codemirror_mode": {
    "name": "ipython",
    "version": 3
   },
   "file_extension": ".py",
   "mimetype": "text/x-python",
   "name": "python",
   "nbconvert_exporter": "python",
   "pygments_lexer": "ipython3",
   "version": "3.9.7"
  },
  "vscode": {
   "interpreter": {
    "hash": "40d3a090f54c6569ab1632332b64b2c03c39dcf918b08424e98f38b5ae0af88f"
   }
  }
 },
 "nbformat": 4,
 "nbformat_minor": 1
}
