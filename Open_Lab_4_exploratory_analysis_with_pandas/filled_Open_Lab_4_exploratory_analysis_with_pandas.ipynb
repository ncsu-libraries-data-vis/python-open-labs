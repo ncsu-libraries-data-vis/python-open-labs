{
 "cells": [
  {
   "cell_type": "markdown",
   "metadata": {},
   "source": [
    "# Python Open Labs: Exploratory analysis with pandas\n",
    "\n",
    "## Setup\n",
    "With this Google Colaboratory (Colab) notebook open, click the \"Copy to Drive\" button that appears in the menu bar. The notebook will then be attached to your own user account, so you can edit it in any way you like -- you can even take notes directly in the notebook.\n",
    "\n",
    "## Instructors\n",
    "- Walt Gurley\n",
    "- Claire Cahoon\n",
    "\n",
    "## Open Labs agenda\n",
    "\n",
    "1.   **Guided activity**: One of the instructors will share their screen to work through the guided activity and teach concepts along the way.\n",
    "\n",
    "2.   **Open lab time**: After the guided portion of the Open Lab, the rest of the time is for you to ask questions, work collaboratively, or have self-guided practice time. You will have access to instructors and peers for questions and support.\n",
    "\n",
    "Breakout rooms will be available if you would like to work in small groups. If you have trouble joining a room, ask in the chat to be moved into a room.\n",
    "\n",
    "## Learning objectives\n",
    "\n",
    "By the end of the workshop today, we hope you'll by able to explore datasets using aggregation methods and grouping.\n",
    "\n",
    "## Today's Topics\n",
    "- Exploratory analysis\n",
    "- Unique values\n",
    "- Value counts\n",
    "- Minimum, maximum, and average\n",
    "- Grouping using `groupby()`\n",
    "\n",
    "## Questions during the workshop\n",
    "\n",
    "Please feel free to ask questions throughout the workshop.\n",
    "\n",
    "We have a second instructor who will available during the workshop. They will answer as able, and will collect questions with answers that might help everyone to be answered at the end of the workshop.\n",
    "\n",
    "The open lab time is when you will be able to ask more questions and work together on the exercises."
   ]
  },
  {
   "cell_type": "markdown",
   "metadata": {},
   "source": [
    "## Using Jupyter Notebooks and Google Colaboratory\n",
    "\n",
    "Jupyter notebooks are a way to write and run Python code in an interactive way. They're quickly becoming a standard way of putting together data, code, and written explanations or visualizations into a single document and sharing that. There are a lot of ways that you can run Jupyter notebooks, including just locally on your computer, but we've decided to use Google's Colaboratory notebook platform for this workshop.  Colaboratory is “a Google research project created to help disseminate machine learning education and research.”  If you would like to know more about Colaboratory in general, you can visit the [Welcome Notebook](https://colab.research.google.com/notebooks/welcome.ipynb).\n",
    "\n",
    "Using the Google Colaboratory platform allows us to focus on learning and writing Python in the workshop rather than on setting up Python, which can sometimes take a bit of extra work depending on platforms, operating systems, and other installed applications. If you'd like to install a Python distribution locally, though, we're happy to help. Feel free to [get help from our graduate consultants](https://www.lib.ncsu.edu/dxl) or [schedule an appointment with Libraries staff](https://go.ncsu.edu/dvs-request)."
   ]
  },
  {
   "cell_type": "markdown",
   "metadata": {},
   "source": [
    "## Guided Instruction\n",
    "In this section, we will work through examples using data from the [Museum of Modern Art (MoMA) research dataset](https://github.com/MuseumofModernArt/collection) containing records of all of the works that have been cataloged in the database of the MoMA collection.\n",
    "\n",
    "We have split the dataset into several different subsections (paintings, sculptures, photographs, and artist information) and file types to use in activities. We will be referencing the data that we have prepared in our [Github repository for teaching datasets](https://github.com/ncsu-libraries-data-vis/teaching-datasets/tree/main/moma_data).\n",
    "\n",
    "### Exploratory analysis of the dataset\n",
    "\n",
    "After observing and cleaning our dataset, it is now easier to conduct analyses on our data. We will conduct some numerical and visual analyses that will help us explore questions such as:\n",
    "\n",
    "- How many unique species have been identified in the data set?\n",
    "- Which species are struck the most?\n",
    "- How have number of strikes changed over time?\n",
    "- Are there times of the year when most strikes occur?\n",
    "- How frequently are land-based animals involved?\n",
    "\n",
    "We can do this by calculating summaries of rows and columns, grouping data, and visualizing the results."
   ]
  },
  {
   "cell_type": "markdown",
   "metadata": {},
   "source": [
    "### Importing the dataset"
   ]
  },
  {
   "cell_type": "code",
   "execution_count": 1,
   "metadata": {},
   "outputs": [],
   "source": [
    "# Import the pandas library as pd (callable in our code as pd)\n",
    "import pandas as pd"
   ]
  },
  {
   "cell_type": "code",
   "execution_count": 7,
   "metadata": {},
   "outputs": [
    {
     "data": {
      "text/html": [
       "<div>\n",
       "<style scoped>\n",
       "    .dataframe tbody tr th:only-of-type {\n",
       "        vertical-align: middle;\n",
       "    }\n",
       "\n",
       "    .dataframe tbody tr th {\n",
       "        vertical-align: top;\n",
       "    }\n",
       "\n",
       "    .dataframe thead th {\n",
       "        text-align: right;\n",
       "    }\n",
       "</style>\n",
       "<table border=\"1\" class=\"dataframe\">\n",
       "  <thead>\n",
       "    <tr style=\"text-align: right;\">\n",
       "      <th></th>\n",
       "      <th>Unnamed: 0</th>\n",
       "      <th>Index</th>\n",
       "      <th>Title</th>\n",
       "      <th>Artist</th>\n",
       "      <th>ConstituentID</th>\n",
       "      <th>Date</th>\n",
       "      <th>Medium</th>\n",
       "      <th>Dimensions</th>\n",
       "      <th>CreditLine</th>\n",
       "      <th>AccessionNumber</th>\n",
       "      <th>...</th>\n",
       "      <th>Width (cm)</th>\n",
       "      <th>Seat Height (cm)</th>\n",
       "      <th>Duration (sec.)</th>\n",
       "      <th>DisplayName</th>\n",
       "      <th>ArtistBio</th>\n",
       "      <th>Nationality</th>\n",
       "      <th>Gender</th>\n",
       "      <th>BeginDate</th>\n",
       "      <th>EndDate</th>\n",
       "      <th>ULAN</th>\n",
       "    </tr>\n",
       "  </thead>\n",
       "  <tbody>\n",
       "    <tr>\n",
       "      <th>0</th>\n",
       "      <td>0</td>\n",
       "      <td>32095</td>\n",
       "      <td>Rope and People, I</td>\n",
       "      <td>Joan Miró</td>\n",
       "      <td>4016.0</td>\n",
       "      <td>Barcelona, March 27, 1935</td>\n",
       "      <td>Oil on cardboard mounted on wood, with coil of...</td>\n",
       "      <td>41 1/4 x 29 3/8\" (104.8 x 74.6 cm)</td>\n",
       "      <td>Gift of the Pierre Matisse Gallery</td>\n",
       "      <td>71.1936</td>\n",
       "      <td>...</td>\n",
       "      <td>74.6</td>\n",
       "      <td>NaN</td>\n",
       "      <td>NaN</td>\n",
       "      <td>Joan Miró</td>\n",
       "      <td>Spanish, 1893–1983</td>\n",
       "      <td>Spanish</td>\n",
       "      <td>Male</td>\n",
       "      <td>1893.0</td>\n",
       "      <td>1983.0</td>\n",
       "      <td>500014094.0</td>\n",
       "    </tr>\n",
       "    <tr>\n",
       "      <th>1</th>\n",
       "      <td>1</td>\n",
       "      <td>33167</td>\n",
       "      <td>Fire in the Evening</td>\n",
       "      <td>Paul Klee</td>\n",
       "      <td>3130.0</td>\n",
       "      <td>1929</td>\n",
       "      <td>Oil on cardboard</td>\n",
       "      <td>13 3/8 x 13 1/4\" (33.8 x 33.3 cm)</td>\n",
       "      <td>Mr. and Mrs. Joachim Jean Aberbach Fund</td>\n",
       "      <td>153.1970</td>\n",
       "      <td>...</td>\n",
       "      <td>33.3</td>\n",
       "      <td>NaN</td>\n",
       "      <td>NaN</td>\n",
       "      <td>Paul Klee</td>\n",
       "      <td>German, born Switzerland. 1879–1940</td>\n",
       "      <td>German</td>\n",
       "      <td>Male</td>\n",
       "      <td>1879.0</td>\n",
       "      <td>1940.0</td>\n",
       "      <td>500010493.0</td>\n",
       "    </tr>\n",
       "    <tr>\n",
       "      <th>2</th>\n",
       "      <td>2</td>\n",
       "      <td>33424</td>\n",
       "      <td>Portrait of an Equilibrist</td>\n",
       "      <td>Paul Klee</td>\n",
       "      <td>3130.0</td>\n",
       "      <td>1927</td>\n",
       "      <td>Oil and collage on cardboard over wood with pa...</td>\n",
       "      <td>24 7/8 x 15 3/4\" (63.2 x 40 cm)</td>\n",
       "      <td>Mrs. Simon Guggenheim Fund</td>\n",
       "      <td>195.1966</td>\n",
       "      <td>...</td>\n",
       "      <td>36.8</td>\n",
       "      <td>NaN</td>\n",
       "      <td>NaN</td>\n",
       "      <td>Paul Klee</td>\n",
       "      <td>German, born Switzerland. 1879–1940</td>\n",
       "      <td>German</td>\n",
       "      <td>Male</td>\n",
       "      <td>1879.0</td>\n",
       "      <td>1940.0</td>\n",
       "      <td>500010493.0</td>\n",
       "    </tr>\n",
       "    <tr>\n",
       "      <th>3</th>\n",
       "      <td>3</td>\n",
       "      <td>34481</td>\n",
       "      <td>Guitar</td>\n",
       "      <td>Pablo Picasso</td>\n",
       "      <td>4609.0</td>\n",
       "      <td>Paris, early 1919</td>\n",
       "      <td>Oil, charcoal and pinned paper on canvas</td>\n",
       "      <td>7' 1\" x 31\" (216 x 78.8 cm)</td>\n",
       "      <td>Gift of A. Conger Goodyear</td>\n",
       "      <td>384.1955</td>\n",
       "      <td>...</td>\n",
       "      <td>78.7</td>\n",
       "      <td>NaN</td>\n",
       "      <td>NaN</td>\n",
       "      <td>Pablo Picasso</td>\n",
       "      <td>Spanish, 1881–1973</td>\n",
       "      <td>Spanish</td>\n",
       "      <td>Male</td>\n",
       "      <td>1881.0</td>\n",
       "      <td>1973.0</td>\n",
       "      <td>500009666.0</td>\n",
       "    </tr>\n",
       "    <tr>\n",
       "      <th>4</th>\n",
       "      <td>4</td>\n",
       "      <td>35396</td>\n",
       "      <td>Grandmother</td>\n",
       "      <td>Arthur Dove</td>\n",
       "      <td>1602.0</td>\n",
       "      <td>1925</td>\n",
       "      <td>Shingles, needlepoint, page from Concordance, ...</td>\n",
       "      <td>20 x 21 1/4\" (50.8 x 54.0 cm)</td>\n",
       "      <td>Gift of Philip L. Goodwin (by exchange)</td>\n",
       "      <td>636.1939</td>\n",
       "      <td>...</td>\n",
       "      <td>54.0</td>\n",
       "      <td>NaN</td>\n",
       "      <td>NaN</td>\n",
       "      <td>Arthur Dove</td>\n",
       "      <td>American, 1880–1946</td>\n",
       "      <td>American</td>\n",
       "      <td>Male</td>\n",
       "      <td>1880.0</td>\n",
       "      <td>1946.0</td>\n",
       "      <td>500018046.0</td>\n",
       "    </tr>\n",
       "  </tbody>\n",
       "</table>\n",
       "<p>5 rows × 31 columns</p>\n",
       "</div>"
      ],
      "text/plain": [
       "   Unnamed: 0  Index                       Title         Artist  \\\n",
       "0           0  32095          Rope and People, I      Joan Miró   \n",
       "1           1  33167         Fire in the Evening      Paul Klee   \n",
       "2           2  33424  Portrait of an Equilibrist      Paul Klee   \n",
       "3           3  34481                      Guitar  Pablo Picasso   \n",
       "4           4  35396                 Grandmother    Arthur Dove   \n",
       "\n",
       "   ConstituentID                       Date  \\\n",
       "0         4016.0  Barcelona, March 27, 1935   \n",
       "1         3130.0                       1929   \n",
       "2         3130.0                       1927   \n",
       "3         4609.0          Paris, early 1919   \n",
       "4         1602.0                       1925   \n",
       "\n",
       "                                              Medium  \\\n",
       "0  Oil on cardboard mounted on wood, with coil of...   \n",
       "1                                   Oil on cardboard   \n",
       "2  Oil and collage on cardboard over wood with pa...   \n",
       "3           Oil, charcoal and pinned paper on canvas   \n",
       "4  Shingles, needlepoint, page from Concordance, ...   \n",
       "\n",
       "                           Dimensions  \\\n",
       "0  41 1/4 x 29 3/8\" (104.8 x 74.6 cm)   \n",
       "1   13 3/8 x 13 1/4\" (33.8 x 33.3 cm)   \n",
       "2     24 7/8 x 15 3/4\" (63.2 x 40 cm)   \n",
       "3         7' 1\" x 31\" (216 x 78.8 cm)   \n",
       "4       20 x 21 1/4\" (50.8 x 54.0 cm)   \n",
       "\n",
       "                                CreditLine AccessionNumber  ... Width (cm)  \\\n",
       "0       Gift of the Pierre Matisse Gallery         71.1936  ...       74.6   \n",
       "1  Mr. and Mrs. Joachim Jean Aberbach Fund        153.1970  ...       33.3   \n",
       "2               Mrs. Simon Guggenheim Fund        195.1966  ...       36.8   \n",
       "3               Gift of A. Conger Goodyear        384.1955  ...       78.7   \n",
       "4  Gift of Philip L. Goodwin (by exchange)        636.1939  ...       54.0   \n",
       "\n",
       "  Seat Height (cm) Duration (sec.)    DisplayName  \\\n",
       "0              NaN             NaN      Joan Miró   \n",
       "1              NaN             NaN      Paul Klee   \n",
       "2              NaN             NaN      Paul Klee   \n",
       "3              NaN             NaN  Pablo Picasso   \n",
       "4              NaN             NaN    Arthur Dove   \n",
       "\n",
       "                             ArtistBio  Nationality  Gender  BeginDate  \\\n",
       "0                   Spanish, 1893–1983      Spanish    Male     1893.0   \n",
       "1  German, born Switzerland. 1879–1940       German    Male     1879.0   \n",
       "2  German, born Switzerland. 1879–1940       German    Male     1879.0   \n",
       "3                   Spanish, 1881–1973      Spanish    Male     1881.0   \n",
       "4                  American, 1880–1946     American    Male     1880.0   \n",
       "\n",
       "   EndDate         ULAN  \n",
       "0   1983.0  500014094.0  \n",
       "1   1940.0  500010493.0  \n",
       "2   1940.0  500010493.0  \n",
       "3   1973.0  500009666.0  \n",
       "4   1946.0  500018046.0  \n",
       "\n",
       "[5 rows x 31 columns]"
      ]
     },
     "execution_count": 7,
     "metadata": {},
     "output_type": "execute_result"
    }
   ],
   "source": [
    "# Import the data from a csv file\n",
    "# This dataset was cleaned based on methods from previous workshops\n",
    "csv_file_url = 'moma_data_workshop2.csv'\n",
    "# TODO - change this to the cleaned dataset\n",
    "\n",
    "art = pd.read_csv(csv_file_url)\n",
    "\n",
    "# Print out the first five columns of the dataset\n",
    "art.head()"
   ]
  },
  {
   "cell_type": "markdown",
   "metadata": {},
   "source": [
    "### Aggregation Methods\n",
    "\n",
    "There are several methods that can be used to calculate aggregated values from the dataset, such as the number of unique values, unique value counts, minimum, maximum, and average."
   ]
  },
  {
   "cell_type": "markdown",
   "metadata": {},
   "source": [
    "#### Unique\n",
    "\n",
    "\n",
    "We can use the `unique()` method on the \"Artist\" column to create an array of unique artist names. \n",
    "\n",
    "The length of this array will provide the number of unique artist."
   ]
  },
  {
   "cell_type": "code",
   "execution_count": 8,
   "metadata": {},
   "outputs": [
    {
     "data": {
      "text/plain": [
       "array(['Joan Miró', 'Paul Klee', 'Pablo Picasso', ..., 'Romuald Hazoumè',\n",
       "       'Ivan Kožarić', 'Guadalupe Maravilla'], dtype=object)"
      ]
     },
     "execution_count": 8,
     "metadata": {},
     "output_type": "execute_result"
    }
   ],
   "source": [
    "# Create a list of the unique artists with unique()\n",
    "unique_artists = art['Artist'].unique()\n",
    "\n",
    "# Print out the unique artists\n",
    "unique_artists"
   ]
  },
  {
   "cell_type": "code",
   "execution_count": 9,
   "metadata": {},
   "outputs": [
    {
     "data": {
      "text/plain": [
       "3663"
      ]
     },
     "execution_count": 9,
     "metadata": {},
     "output_type": "execute_result"
    }
   ],
   "source": [
    "# Get the length of the new array using len()\n",
    "# How many unique species are there?\n",
    "len(unique_artists)"
   ]
  },
  {
   "cell_type": "markdown",
   "metadata": {},
   "source": [
    "#### Value counts\n",
    "\n",
    "Value counts show how many instances there are of each unique entry in a column. Here, we are interested in seeing the gender breakdown for works of art, or how many pieces of art were created by different genders. This might be interesting as part of an equity audit to make sure the museum is representing all different kinds of artists and artwork.\n",
    "\n",
    "We will specify the `Gender` column in our dataset and call the method `value_counts()`. This will return a Series with an index label of each unique gender and a value corresponding to the count of that gender identity in the `Gender` column."
   ]
  },
  {
   "cell_type": "code",
   "execution_count": 13,
   "metadata": {},
   "outputs": [
    {
     "data": {
      "text/plain": [
       "Male          27626\n",
       "Female         4274\n",
       "male             11\n",
       "female            2\n",
       "Non-Binary        1\n",
       "Name: Gender, dtype: int64"
      ]
     },
     "execution_count": 13,
     "metadata": {},
     "output_type": "execute_result"
    }
   ],
   "source": [
    "# Count the occurance of unique values on the column 'Gender'\n",
    "gender = art['Gender'].value_counts()\n",
    "\n",
    "# Sort the Series by the value counts using sort_values()\n",
    "gender.sort_values(ascending=False)"
   ]
  },
  {
   "cell_type": "markdown",
   "metadata": {},
   "source": [
    "#### Minimum, maximum, average...\n",
    "\n",
    "We can also calculate aggregates like the minimum, maximum, and mean of values in a DataFrame or Series. Here are a few examples:\n",
    "\n",
    "- `mean()` to find the average of a range\n",
    "- `min()` to find the smallest value\n",
    "- `max()` to find the largest value\n",
    "- `sum()` to sum the values of a range"
   ]
  },
  {
   "cell_type": "code",
   "execution_count": 14,
   "metadata": {},
   "outputs": [
    {
     "data": {
      "text/plain": [
       "Unnamed: 0                            0\n",
       "Index                             30700\n",
       "ConstituentID                         3\n",
       "AccessionNumber                  1.1931\n",
       "Classification                 Painting\n",
       "Department            Drawings & Prints\n",
       "Cataloged                             N\n",
       "ObjectID                          32009\n",
       "Circumference (cm)                  NaN\n",
       "Depth (cm)                            0\n",
       "Diameter (cm)                      2.54\n",
       "Height (cm)                           0\n",
       "Length (cm)                          15\n",
       "Weight (kg)                      0.1984\n",
       "Width (cm)                            0\n",
       "Seat Height (cm)                    NaN\n",
       "Duration (sec.)                       0\n",
       "BeginDate                             0\n",
       "EndDate                               0\n",
       "ULAN                              5e+08\n",
       "dtype: object"
      ]
     },
     "execution_count": 14,
     "metadata": {},
     "output_type": "execute_result"
    }
   ],
   "source": [
    "# Calculate the minimum values for each column\n",
    "# Note the minimum values for columns not containing numbers (e.g., the minimum\n",
    "# for strings is alphabetical order, with uppercase characters preceeding\n",
    "# lowercase characters - \"B\" comes before \"a\")\n",
    "art.min()"
   ]
  },
  {
   "cell_type": "code",
   "execution_count": 15,
   "metadata": {},
   "outputs": [
    {
     "data": {
      "text/plain": [
       "40.58163551713594"
      ]
     },
     "execution_count": 15,
     "metadata": {},
     "output_type": "execute_result"
    }
   ],
   "source": [
    "# Calculate the average height for all pieces of art in this collection\n",
    "art['Height (cm)'].mean()"
   ]
  },
  {
   "cell_type": "code",
   "execution_count": 16,
   "metadata": {},
   "outputs": [
    {
     "data": {
      "text/plain": [
       "mean     87.640676\n",
       "min       2.540000\n",
       "max     914.400000\n",
       "Name: Diameter (cm), dtype: float64"
      ]
     },
     "execution_count": 16,
     "metadata": {},
     "output_type": "execute_result"
    }
   ],
   "source": [
    "# Calculate the minimum, maximum, and average diameter for art in this collection\n",
    "art['Diameter (cm)'].agg(['mean', 'min', 'max'])"
   ]
  },
  {
   "cell_type": "markdown",
   "metadata": {},
   "source": [
    "### Group values using groupby\n",
    "\n",
    "We may be interested in seeing our data in groups. For example, what does the data look like if we group by nationality and find the count of each column? Which nationalities are represented in this collection and how frequently?\n",
    "\n",
    "We can do this by calling `groupby()` on our dataset and passing in the column we would like to group by. We will group our data by the column `Nationality`, find the count of each column in the grouped data, and sort by the `COST_REPAIRS_INFL_ADJ` column to see which month has the highest average cost."
   ]
  },
  {
   "cell_type": "code",
   "execution_count": 29,
   "metadata": {},
   "outputs": [
    {
     "data": {
      "text/html": [
       "<div>\n",
       "<style scoped>\n",
       "    .dataframe tbody tr th:only-of-type {\n",
       "        vertical-align: middle;\n",
       "    }\n",
       "\n",
       "    .dataframe tbody tr th {\n",
       "        vertical-align: top;\n",
       "    }\n",
       "\n",
       "    .dataframe thead th {\n",
       "        text-align: right;\n",
       "    }\n",
       "</style>\n",
       "<table border=\"1\" class=\"dataframe\">\n",
       "  <thead>\n",
       "    <tr style=\"text-align: right;\">\n",
       "      <th></th>\n",
       "      <th>Unnamed: 0</th>\n",
       "      <th>Index</th>\n",
       "      <th>ConstituentID</th>\n",
       "      <th>ObjectID</th>\n",
       "      <th>Circumference (cm)</th>\n",
       "      <th>Depth (cm)</th>\n",
       "      <th>Diameter (cm)</th>\n",
       "      <th>Height (cm)</th>\n",
       "      <th>Length (cm)</th>\n",
       "      <th>Weight (kg)</th>\n",
       "      <th>Width (cm)</th>\n",
       "      <th>Seat Height (cm)</th>\n",
       "      <th>Duration (sec.)</th>\n",
       "      <th>BeginDate</th>\n",
       "      <th>EndDate</th>\n",
       "      <th>ULAN</th>\n",
       "    </tr>\n",
       "    <tr>\n",
       "      <th>Department</th>\n",
       "      <th></th>\n",
       "      <th></th>\n",
       "      <th></th>\n",
       "      <th></th>\n",
       "      <th></th>\n",
       "      <th></th>\n",
       "      <th></th>\n",
       "      <th></th>\n",
       "      <th></th>\n",
       "      <th></th>\n",
       "      <th></th>\n",
       "      <th></th>\n",
       "      <th></th>\n",
       "      <th></th>\n",
       "      <th></th>\n",
       "      <th></th>\n",
       "    </tr>\n",
       "  </thead>\n",
       "  <tbody>\n",
       "    <tr>\n",
       "      <th>Fluxus Collection</th>\n",
       "      <td>30282.359091</td>\n",
       "      <td>109677.795455</td>\n",
       "      <td>14551.755102</td>\n",
       "      <td>172379.536364</td>\n",
       "      <td>NaN</td>\n",
       "      <td>3.781317</td>\n",
       "      <td>6.000000</td>\n",
       "      <td>14.518334</td>\n",
       "      <td>NaN</td>\n",
       "      <td>NaN</td>\n",
       "      <td>14.259659</td>\n",
       "      <td>NaN</td>\n",
       "      <td>NaN</td>\n",
       "      <td>1794.821429</td>\n",
       "      <td>1272.433673</td>\n",
       "      <td>5.000916e+08</td>\n",
       "    </tr>\n",
       "    <tr>\n",
       "      <th>Drawings &amp; Prints</th>\n",
       "      <td>29256.569752</td>\n",
       "      <td>115318.924381</td>\n",
       "      <td>14627.330592</td>\n",
       "      <td>183666.623207</td>\n",
       "      <td>NaN</td>\n",
       "      <td>3.805625</td>\n",
       "      <td>23.350000</td>\n",
       "      <td>25.404881</td>\n",
       "      <td>15.0000</td>\n",
       "      <td>NaN</td>\n",
       "      <td>19.235877</td>\n",
       "      <td>NaN</td>\n",
       "      <td>NaN</td>\n",
       "      <td>1823.736842</td>\n",
       "      <td>1205.162829</td>\n",
       "      <td>5.000694e+08</td>\n",
       "    </tr>\n",
       "    <tr>\n",
       "      <th>Photography</th>\n",
       "      <td>17723.439974</td>\n",
       "      <td>69241.929767</td>\n",
       "      <td>7801.758690</td>\n",
       "      <td>97990.883919</td>\n",
       "      <td>NaN</td>\n",
       "      <td>6.433524</td>\n",
       "      <td>8.041579</td>\n",
       "      <td>29.104587</td>\n",
       "      <td>NaN</td>\n",
       "      <td>226.798512</td>\n",
       "      <td>32.255010</td>\n",
       "      <td>NaN</td>\n",
       "      <td>280.0</td>\n",
       "      <td>1690.352939</td>\n",
       "      <td>1197.956445</td>\n",
       "      <td>5.000424e+08</td>\n",
       "    </tr>\n",
       "    <tr>\n",
       "      <th>Media and Performance</th>\n",
       "      <td>29056.312741</td>\n",
       "      <td>116560.980695</td>\n",
       "      <td>27078.718147</td>\n",
       "      <td>211828.474903</td>\n",
       "      <td>NaN</td>\n",
       "      <td>4.201044</td>\n",
       "      <td>2.540000</td>\n",
       "      <td>36.647276</td>\n",
       "      <td>NaN</td>\n",
       "      <td>NaN</td>\n",
       "      <td>44.029434</td>\n",
       "      <td>NaN</td>\n",
       "      <td>1860.0</td>\n",
       "      <td>1951.061776</td>\n",
       "      <td>407.915058</td>\n",
       "      <td>5.001823e+08</td>\n",
       "    </tr>\n",
       "    <tr>\n",
       "      <th>Film</th>\n",
       "      <td>7516.285714</td>\n",
       "      <td>97180.685714</td>\n",
       "      <td>36838.057143</td>\n",
       "      <td>127120.400000</td>\n",
       "      <td>NaN</td>\n",
       "      <td>0.000000</td>\n",
       "      <td>NaN</td>\n",
       "      <td>103.164188</td>\n",
       "      <td>NaN</td>\n",
       "      <td>NaN</td>\n",
       "      <td>58.190811</td>\n",
       "      <td>NaN</td>\n",
       "      <td>NaN</td>\n",
       "      <td>1684.142857</td>\n",
       "      <td>1757.142857</td>\n",
       "      <td>5.001731e+08</td>\n",
       "    </tr>\n",
       "    <tr>\n",
       "      <th>Painting &amp; Sculpture</th>\n",
       "      <td>14203.084755</td>\n",
       "      <td>83035.480810</td>\n",
       "      <td>7506.278518</td>\n",
       "      <td>101656.698028</td>\n",
       "      <td>NaN</td>\n",
       "      <td>52.635795</td>\n",
       "      <td>126.600455</td>\n",
       "      <td>121.442168</td>\n",
       "      <td>615.4936</td>\n",
       "      <td>1383.453175</td>\n",
       "      <td>127.378851</td>\n",
       "      <td>NaN</td>\n",
       "      <td>NaN</td>\n",
       "      <td>1914.640458</td>\n",
       "      <td>1374.581290</td>\n",
       "      <td>5.000447e+08</td>\n",
       "    </tr>\n",
       "  </tbody>\n",
       "</table>\n",
       "</div>"
      ],
      "text/plain": [
       "                         Unnamed: 0          Index  ConstituentID  \\\n",
       "Department                                                          \n",
       "Fluxus Collection      30282.359091  109677.795455   14551.755102   \n",
       "Drawings & Prints      29256.569752  115318.924381   14627.330592   \n",
       "Photography            17723.439974   69241.929767    7801.758690   \n",
       "Media and Performance  29056.312741  116560.980695   27078.718147   \n",
       "Film                    7516.285714   97180.685714   36838.057143   \n",
       "Painting & Sculpture   14203.084755   83035.480810    7506.278518   \n",
       "\n",
       "                            ObjectID  Circumference (cm)  Depth (cm)  \\\n",
       "Department                                                             \n",
       "Fluxus Collection      172379.536364                 NaN    3.781317   \n",
       "Drawings & Prints      183666.623207                 NaN    3.805625   \n",
       "Photography             97990.883919                 NaN    6.433524   \n",
       "Media and Performance  211828.474903                 NaN    4.201044   \n",
       "Film                   127120.400000                 NaN    0.000000   \n",
       "Painting & Sculpture   101656.698028                 NaN   52.635795   \n",
       "\n",
       "                       Diameter (cm)  Height (cm)  Length (cm)  Weight (kg)  \\\n",
       "Department                                                                    \n",
       "Fluxus Collection           6.000000    14.518334          NaN          NaN   \n",
       "Drawings & Prints          23.350000    25.404881      15.0000          NaN   \n",
       "Photography                 8.041579    29.104587          NaN   226.798512   \n",
       "Media and Performance       2.540000    36.647276          NaN          NaN   \n",
       "Film                             NaN   103.164188          NaN          NaN   \n",
       "Painting & Sculpture      126.600455   121.442168     615.4936  1383.453175   \n",
       "\n",
       "                       Width (cm)  Seat Height (cm)  Duration (sec.)  \\\n",
       "Department                                                             \n",
       "Fluxus Collection       14.259659               NaN              NaN   \n",
       "Drawings & Prints       19.235877               NaN              NaN   \n",
       "Photography             32.255010               NaN            280.0   \n",
       "Media and Performance   44.029434               NaN           1860.0   \n",
       "Film                    58.190811               NaN              NaN   \n",
       "Painting & Sculpture   127.378851               NaN              NaN   \n",
       "\n",
       "                         BeginDate      EndDate          ULAN  \n",
       "Department                                                     \n",
       "Fluxus Collection      1794.821429  1272.433673  5.000916e+08  \n",
       "Drawings & Prints      1823.736842  1205.162829  5.000694e+08  \n",
       "Photography            1690.352939  1197.956445  5.000424e+08  \n",
       "Media and Performance  1951.061776   407.915058  5.001823e+08  \n",
       "Film                   1684.142857  1757.142857  5.001731e+08  \n",
       "Painting & Sculpture   1914.640458  1374.581290  5.000447e+08  "
      ]
     },
     "execution_count": 29,
     "metadata": {},
     "output_type": "execute_result"
    }
   ],
   "source": [
    "# Group the dataset by \"Department\"\n",
    "art_by_dept = art.groupby('Department')\n",
    "\n",
    "# This creates a groupby object that contains information about the groups\n",
    "type(art_by_dept)\n",
    "\n",
    "# Find the mean of the grouped data, then sort by \"Height (cm)\"\n",
    "art_by_dept.mean().sort_values('Height (cm)')\n"
   ]
  },
  {
   "cell_type": "markdown",
   "metadata": {},
   "source": [
    "You can also use `groupby()` to group data by multiple variables. We will create a hierarchical grouping of `INCIDENT_MONTH` and then `PRECIPITATION` to see the counts of different types of precipitation in each month using the `size()` groupby method."
   ]
  },
  {
   "cell_type": "code",
   "execution_count": 40,
   "metadata": {},
   "outputs": [
    {
     "data": {
      "text/plain": [
       "Department             Gender    \n",
       "Drawings & Prints      Female           45\n",
       "                       Male            518\n",
       "Film                   Male             31\n",
       "Fluxus Collection      Female           22\n",
       "                       Male            160\n",
       "Media and Performance  Female           63\n",
       "                       Male            196\n",
       "Painting & Sculpture   Female          498\n",
       "                       Male           3234\n",
       "                       Non-Binary        1\n",
       "                       female            2\n",
       "                       male              5\n",
       "Photography            Female         3646\n",
       "                       Male          23487\n",
       "                       male              6\n",
       "dtype: int64"
      ]
     },
     "execution_count": 40,
     "metadata": {},
     "output_type": "execute_result"
    }
   ],
   "source": [
    "# Preview the unique values in the \"\" column TODO\n",
    "\n",
    "# Group the data by Department and then gender and get the count of\n",
    "# recorded genders in each department using size()\n",
    "art.groupby(['Department','Gender']).size()"
   ]
  },
  {
   "cell_type": "markdown",
   "metadata": {},
   "source": [
    "## Open work time\n",
    "You can use this time to ask questions, collaborate, or work on the following activities (on your own or in a group). "
   ]
  },
  {
   "cell_type": "markdown",
   "metadata": {},
   "source": [
    "### Exercise 1: Aggregation\n",
    "\n",
    "**TODO make these about the photographs dataset\n",
    "\n",
    "Find the average, minimum, and maximum from the column 'SPEED'."
   ]
  },
  {
   "cell_type": "code",
   "execution_count": null,
   "metadata": {},
   "outputs": [],
   "source": [
    "# Get general statistics of altitude when strike occured\n",
    "wl_strikes['SPEED'].agg(['mean', 'min', 'max'])"
   ]
  },
  {
   "cell_type": "markdown",
   "metadata": {},
   "source": [
    "### Exercise 2: Grouping Values\n",
    "\n",
    "Find how expensive repairs (the data in column `'COST_REPAIRS_INFL_ADJ'`) were at each time of day (dawn, dusk, day, and night). Group the data using `TIME_OF_DAY`, then show a table with the average cost of repairs for each time of day, sorted from least expensive to most expensive.\n",
    "\n",
    "\n",
    "\n",
    "> Bonus discussion question: does showing the data this way tell the whole story? What other factors could affect these numbers?\n"
   ]
  },
  {
   "cell_type": "code",
   "execution_count": null,
   "metadata": {},
   "outputs": [],
   "source": [
    "# Create a variable that stores clean_data grouped by TIME_OF_DAY\n",
    "data_by_month = wl_strikes.groupby('TIME_OF_DAY')\n",
    "\n",
    "# Find the mean of the data based on the cost of repairs\n",
    "data_by_month = data_by_month.mean()\n",
    "\n",
    "#View the data, sorted by least to most expensive\n",
    "data_by_month['COST_REPAIRS_INFL_ADJ'].sort_values()"
   ]
  },
  {
   "cell_type": "markdown",
   "metadata": {},
   "source": [
    "### Exercise 3: Calculate strike totals by month\n",
    "\n",
    "We're considering if there might be a relationship between the number of strikes and bird migration occurance (March-April and August-November -- see [Bird Migration and Areas With Sensitive Fauna](https://www.faa.gov/air_traffic/publications/atpubs/aip_html/part2_enr_section_5.6.html)). Find the total strikes by month to observe any patterns that might occur at the temporal level of month by creating a bar chart of total strikes by month.\n",
    "\n",
    "\n",
    "\n",
    "> Hint: To rotate a chart, there is a keyword that you can add to the `plot()` method. `rot` specifies the rotation of the x-axis tick labels (0.5 = 90 degrees rotation). Example: `your_data.plot(kind='bar', rot=.5)`"
   ]
  },
  {
   "cell_type": "code",
   "execution_count": null,
   "metadata": {},
   "outputs": [],
   "source": [
    "# Get the number of strikes that occured during a specific month\n",
    "strikes_by_month = wl_strikes['INCIDENT_MONTH'].value_counts()\n",
    "\n",
    "# Sort the new Series by the index values, the month number\n",
    "strikes_by_month = strikes_by_month.sort_index()\n",
    "\n",
    "# Create a bar chart with the data, rotate the x-axis tick labels by 90 degrees\n",
    "strikes_by_month.plot(kind='bar', rot=.5)"
   ]
  },
  {
   "cell_type": "markdown",
   "metadata": {},
   "source": [
    "## Further resources\n",
    "\n",
    "### Filled version of this notebook\n",
    "\n",
    "[Python Open Labs Week 1 filled notebook](https://colab.research.google.com/github/ncsu-libraries-data-vis/python-open-labs/blob/main/Open_Lab_1_reading_exploring_and_writing_data_with_pandas/filled_Open_Lab_1_reading_exploring_and_writing_data_with_pandas.ipynb) - a version of this notebook with all code filled in for the guided activity and exercises. TODO\n",
    "### Learning resources\n",
    "\n",
    "- [Python Data Science Handbook](https://jakevdp.github.io/PythonDataScienceHandbook/index.html) - a free, online version of Jake VanderPlas' introduction to data science with Python, includes a chapter on data manipulation with pandas.\n",
    "- [Python Programming for Data Science](https://www.tomasbeuzen.com/python-programming-for-data-science/README.html) - a website providing a great overview of conducting data science with Python including pandas.\n",
    "- [Real Python](https://realpython.com/) contains a lot of different tutorials at different levels\n",
    "- [LinkedIn Learning](https://www.lynda.com/Python-training-tutorials/415-0.html) is free with NC State accounts and contains several video series for learning Python\n",
    "- [Dataquest](https://www.dataquest.io/) is a free then paid series of courses with an emphasis on data science\n",
    "\n",
    "### Finding help with pandas\n",
    "\n",
    "The [Pandas website](https://pandas.pydata.org/) and [online documentation](http://pandas.pydata.org/pandas-docs/stable/) are useful resources, and of course the indispensible [Stack Overflow has a \"pandas\" tag](https://stackoverflow.com/questions/tagged/pandas).  There is also a (much younger, much smaller) [sister site dedicated to Data Science questions that has a \"pandas\" tag](https://datascience.stackexchange.com/questions/tagged/pandas) too."
   ]
  },
  {
   "cell_type": "markdown",
   "metadata": {},
   "source": [
    "## Evaluation Survey\n",
    "Please, spend 1 minute answering these questions that help improve future workshops.\n",
    "\n",
    "https://go.ncsu.edu/dvs-eval"
   ]
  },
  {
   "cell_type": "markdown",
   "metadata": {},
   "source": [
    "## Credits\n",
    "\n",
    "This workshop was created by Claire Cahoon and Walt Gurley, adapted from previous workshop materials by Scott Bailey and Simon Wiles, of Stanford Libraries."
   ]
  }
 ],
 "metadata": {
  "kernelspec": {
   "display_name": "Python 3",
   "language": "python",
   "name": "python3"
  },
  "language_info": {
   "codemirror_mode": {
    "name": "ipython",
    "version": 3
   },
   "file_extension": ".py",
   "mimetype": "text/x-python",
   "name": "python",
   "nbconvert_exporter": "python",
   "pygments_lexer": "ipython3",
   "version": "3.8.5"
  }
 },
 "nbformat": 4,
 "nbformat_minor": 4
}
