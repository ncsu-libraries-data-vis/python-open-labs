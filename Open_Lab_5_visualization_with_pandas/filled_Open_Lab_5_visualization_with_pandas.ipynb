{
 "cells": [
  {
   "cell_type": "markdown",
   "metadata": {},
   "source": [
    "# Python Open Labs: Visualizing data with pandas\n",
    "\n",
    "## Setup\n",
    "\n",
    "With this Google Colaboratory (Colab) notebook open, click the \"Copy to Drive\" button that appears in the menu bar. The notebook will then be attached to your own user account, so you can edit it in any way you like -- you can even take notes directly in the notebook.\n",
    "\n",
    "## Instructors\n",
    "\n",
    "- Walt Gurley\n",
    "- Claire Cahoon\n",
    "\n",
    "## Open Labs agenda\n",
    "\n",
    "1. **Guided activity**: One of the instructors will share their screen to work through the guided activity and teach concepts along the way.\n",
    "\n",
    "2. **Open lab time**: After the guided portion of the Open Lab, the rest of the time is for you to ask questions, work collaboratively, or have self-guided practice time. You will have access to instructors and peers for questions and support.\n",
    "\n",
    "Breakout rooms will be available if you would like to work in small groups. If you have trouble joining a room, ask in the chat to be moved into a room.\n",
    "\n",
    "## Learning objectives\n",
    "\n",
    "By the end of our workshop today, we hope you'll understand basic methods for exploring data with pandas and the visualization library matplotlib and have an awareness of other Python visualization libraries.\n",
    "\n",
    "## Today's Topics\n",
    "\n",
    "- TODO\n",
    "\n",
    "## Questions during the workshop\n",
    "\n",
    "Please feel free to ask questions throughout the workshop.\n",
    "\n",
    "We have a second instructor who will available during the workshop. They will answer as able, and will collect questions with answers that might help everyone to be answered at the end of the workshop.\n",
    "\n",
    "The open lab time is when you will be able to ask more questions and work together on the exercises."
   ]
  },
  {
   "cell_type": "markdown",
   "metadata": {},
   "source": [
    "## Guided Instruction\n",
    "\n",
    "In this Open Lab we're introducing how to use the pandas library with the visualization library matplotlib and other visualization libraries for exploring data.\n",
    "\n",
    "In this section, we will work through examples using data from the [Museum of Modern Art (MoMA) research dataset](https://github.com/MuseumofModernArt/collection) containing records of all of the works that have been cataloged in the database of the MoMA collection.\n",
    "\n",
    "> \"The Museum’s website features 89,695 artworks from 26,494 artists. This research dataset contains 138,151 records, representing all of the works that have been accessioned into MoMA’s collection and cataloged in our database. It includes basic metadata for each work, including title, artist, date made, medium, dimensions, and date acquired by the Museum. Some of these records have incomplete information and are noted as “not Curator Approved.\" - [MoMA Github repository for collection data](https://github.com/MuseumofModernArt/collection)\n",
    "\n",
    "We have prepared a dataset to use in the following activities that consists of MoMA artworks classified as paintings, artist information for each painting, and additional variables generated for exploring the dataset. We will be referencing the data that we have prepared in our [Github repository for teaching datasets](https://github.com/ncsu-libraries-data-vis/teaching-datasets/tree/main/moma_data)."
   ]
  },
  {
   "cell_type": "code",
   "execution_count": 1,
   "metadata": {},
   "outputs": [],
   "source": [
    "# Import the Pandas library as pd (callable in our code as pd)\n",
    "import pandas as pd"
   ]
  },
  {
   "cell_type": "markdown",
   "metadata": {},
   "source": [
    "### Load the dataset"
   ]
  },
  {
   "cell_type": "code",
   "execution_count": 2,
   "metadata": {},
   "outputs": [
    {
     "data": {
      "text/html": [
       "<div>\n",
       "<style scoped>\n",
       "    .dataframe tbody tr th:only-of-type {\n",
       "        vertical-align: middle;\n",
       "    }\n",
       "\n",
       "    .dataframe tbody tr th {\n",
       "        vertical-align: top;\n",
       "    }\n",
       "\n",
       "    .dataframe thead th {\n",
       "        text-align: right;\n",
       "    }\n",
       "</style>\n",
       "<table border=\"1\" class=\"dataframe\">\n",
       "  <thead>\n",
       "    <tr style=\"text-align: right;\">\n",
       "      <th></th>\n",
       "      <th>Title</th>\n",
       "      <th>Artist</th>\n",
       "      <th>ConstituentID</th>\n",
       "      <th>Date</th>\n",
       "      <th>Medium</th>\n",
       "      <th>Dimensions</th>\n",
       "      <th>CreditLine</th>\n",
       "      <th>AccessionNumber</th>\n",
       "      <th>Classification</th>\n",
       "      <th>Department</th>\n",
       "      <th>...</th>\n",
       "      <th>Duration (sec.)</th>\n",
       "      <th>ArtistBio</th>\n",
       "      <th>Nationality</th>\n",
       "      <th>Gender</th>\n",
       "      <th>BeginDate</th>\n",
       "      <th>EndDate</th>\n",
       "      <th>Area (cm^2)</th>\n",
       "      <th>Aspect</th>\n",
       "      <th>OilPainting</th>\n",
       "      <th>YearCreated</th>\n",
       "    </tr>\n",
       "  </thead>\n",
       "  <tbody>\n",
       "    <tr>\n",
       "      <th>0</th>\n",
       "      <td>Rope and People, I</td>\n",
       "      <td>Joan Miró</td>\n",
       "      <td>4016.0</td>\n",
       "      <td>Barcelona, March 27, 1935</td>\n",
       "      <td>Oil on cardboard mounted on wood, with coil of...</td>\n",
       "      <td>41 1/4 x 29 3/8\" (104.8 x 74.6 cm)</td>\n",
       "      <td>Gift of the Pierre Matisse Gallery</td>\n",
       "      <td>71.1936</td>\n",
       "      <td>Painting</td>\n",
       "      <td>Painting &amp; Sculpture</td>\n",
       "      <td>...</td>\n",
       "      <td>NaN</td>\n",
       "      <td>Spanish, 1893–1983</td>\n",
       "      <td>Spanish</td>\n",
       "      <td>male</td>\n",
       "      <td>1893.0</td>\n",
       "      <td>1983.0</td>\n",
       "      <td>7818.080000</td>\n",
       "      <td>0.711832</td>\n",
       "      <td>Y</td>\n",
       "      <td>1935.0</td>\n",
       "    </tr>\n",
       "    <tr>\n",
       "      <th>1</th>\n",
       "      <td>Fire in the Evening</td>\n",
       "      <td>Paul Klee</td>\n",
       "      <td>3130.0</td>\n",
       "      <td>1929</td>\n",
       "      <td>Oil on cardboard</td>\n",
       "      <td>13 3/8 x 13 1/4\" (33.8 x 33.3 cm)</td>\n",
       "      <td>Mr. and Mrs. Joachim Jean Aberbach Fund</td>\n",
       "      <td>153.1970</td>\n",
       "      <td>Painting</td>\n",
       "      <td>Painting &amp; Sculpture</td>\n",
       "      <td>...</td>\n",
       "      <td>NaN</td>\n",
       "      <td>German, born Switzerland. 1879–1940</td>\n",
       "      <td>German</td>\n",
       "      <td>male</td>\n",
       "      <td>1879.0</td>\n",
       "      <td>1940.0</td>\n",
       "      <td>1125.540000</td>\n",
       "      <td>0.985207</td>\n",
       "      <td>Y</td>\n",
       "      <td>1929.0</td>\n",
       "    </tr>\n",
       "    <tr>\n",
       "      <th>2</th>\n",
       "      <td>Portrait of an Equilibrist</td>\n",
       "      <td>Paul Klee</td>\n",
       "      <td>3130.0</td>\n",
       "      <td>1927</td>\n",
       "      <td>Oil and collage on cardboard over wood with pa...</td>\n",
       "      <td>24 7/8 x 15 3/4\" (63.2 x 40 cm)</td>\n",
       "      <td>Mrs. Simon Guggenheim Fund</td>\n",
       "      <td>195.1966</td>\n",
       "      <td>Painting</td>\n",
       "      <td>Painting &amp; Sculpture</td>\n",
       "      <td>...</td>\n",
       "      <td>NaN</td>\n",
       "      <td>German, born Switzerland. 1879–1940</td>\n",
       "      <td>German</td>\n",
       "      <td>male</td>\n",
       "      <td>1879.0</td>\n",
       "      <td>1940.0</td>\n",
       "      <td>2219.040000</td>\n",
       "      <td>0.610282</td>\n",
       "      <td>Y</td>\n",
       "      <td>1927.0</td>\n",
       "    </tr>\n",
       "    <tr>\n",
       "      <th>3</th>\n",
       "      <td>Guitar</td>\n",
       "      <td>Pablo Picasso</td>\n",
       "      <td>4609.0</td>\n",
       "      <td>Paris, early 1919</td>\n",
       "      <td>Oil, charcoal and pinned paper on canvas</td>\n",
       "      <td>7' 1\" x 31\" (216 x 78.8 cm)</td>\n",
       "      <td>Gift of A. Conger Goodyear</td>\n",
       "      <td>384.1955</td>\n",
       "      <td>Painting</td>\n",
       "      <td>Painting &amp; Sculpture</td>\n",
       "      <td>...</td>\n",
       "      <td>NaN</td>\n",
       "      <td>Spanish, 1881–1973</td>\n",
       "      <td>Spanish</td>\n",
       "      <td>male</td>\n",
       "      <td>1881.0</td>\n",
       "      <td>1973.0</td>\n",
       "      <td>16991.330000</td>\n",
       "      <td>0.364521</td>\n",
       "      <td>Y</td>\n",
       "      <td>1919.0</td>\n",
       "    </tr>\n",
       "    <tr>\n",
       "      <th>4</th>\n",
       "      <td>Grandmother</td>\n",
       "      <td>Arthur Dove</td>\n",
       "      <td>1602.0</td>\n",
       "      <td>1925</td>\n",
       "      <td>Shingles, needlepoint, page from Concordance, ...</td>\n",
       "      <td>20 x 21 1/4\" (50.8 x 54.0 cm)</td>\n",
       "      <td>Gift of Philip L. Goodwin (by exchange)</td>\n",
       "      <td>636.1939</td>\n",
       "      <td>Painting</td>\n",
       "      <td>Painting &amp; Sculpture</td>\n",
       "      <td>...</td>\n",
       "      <td>NaN</td>\n",
       "      <td>American, 1880–1946</td>\n",
       "      <td>American</td>\n",
       "      <td>male</td>\n",
       "      <td>1880.0</td>\n",
       "      <td>1946.0</td>\n",
       "      <td>2743.200000</td>\n",
       "      <td>1.062992</td>\n",
       "      <td>N</td>\n",
       "      <td>1925.0</td>\n",
       "    </tr>\n",
       "    <tr>\n",
       "      <th>...</th>\n",
       "      <td>...</td>\n",
       "      <td>...</td>\n",
       "      <td>...</td>\n",
       "      <td>...</td>\n",
       "      <td>...</td>\n",
       "      <td>...</td>\n",
       "      <td>...</td>\n",
       "      <td>...</td>\n",
       "      <td>...</td>\n",
       "      <td>...</td>\n",
       "      <td>...</td>\n",
       "      <td>...</td>\n",
       "      <td>...</td>\n",
       "      <td>...</td>\n",
       "      <td>...</td>\n",
       "      <td>...</td>\n",
       "      <td>...</td>\n",
       "      <td>...</td>\n",
       "      <td>...</td>\n",
       "      <td>...</td>\n",
       "      <td>...</td>\n",
       "    </tr>\n",
       "    <tr>\n",
       "      <th>2345</th>\n",
       "      <td>Zacimba Gaba</td>\n",
       "      <td>Dalton Paula</td>\n",
       "      <td>132719.0</td>\n",
       "      <td>2020</td>\n",
       "      <td>Oil, pencil, and gold leaf on two joined canvases</td>\n",
       "      <td>24 × 17 3/4\" (61 × 45.1 cm), in two parts</td>\n",
       "      <td>NaN</td>\n",
       "      <td>TR16514.1</td>\n",
       "      <td>Painting</td>\n",
       "      <td>Painting &amp; Sculpture</td>\n",
       "      <td>...</td>\n",
       "      <td>NaN</td>\n",
       "      <td>Brazilian, born 1982</td>\n",
       "      <td>Brazilian</td>\n",
       "      <td>NaN</td>\n",
       "      <td>1982.0</td>\n",
       "      <td>0.0</td>\n",
       "      <td>2748.392594</td>\n",
       "      <td>0.739583</td>\n",
       "      <td>Y</td>\n",
       "      <td>2020.0</td>\n",
       "    </tr>\n",
       "    <tr>\n",
       "      <th>2346</th>\n",
       "      <td>Zumbi</td>\n",
       "      <td>Dalton Paula</td>\n",
       "      <td>132719.0</td>\n",
       "      <td>2020</td>\n",
       "      <td>Oil, pencil, and gold leaf on two joined canvases</td>\n",
       "      <td>24 × 17 3/4\" (61 × 45.1 cm), in two parts</td>\n",
       "      <td>NaN</td>\n",
       "      <td>TR16514.2</td>\n",
       "      <td>Painting</td>\n",
       "      <td>Painting &amp; Sculpture</td>\n",
       "      <td>...</td>\n",
       "      <td>NaN</td>\n",
       "      <td>Brazilian, born 1982</td>\n",
       "      <td>Brazilian</td>\n",
       "      <td>NaN</td>\n",
       "      <td>1982.0</td>\n",
       "      <td>0.0</td>\n",
       "      <td>2748.392594</td>\n",
       "      <td>0.739583</td>\n",
       "      <td>Y</td>\n",
       "      <td>2020.0</td>\n",
       "    </tr>\n",
       "    <tr>\n",
       "      <th>2347</th>\n",
       "      <td>Vertigo #2</td>\n",
       "      <td>Ouattara Watts</td>\n",
       "      <td>132954.0</td>\n",
       "      <td>2011</td>\n",
       "      <td>Acrylic, paper pulp, cut and pasted fabrics, a...</td>\n",
       "      <td>118 1/4 × 165 1/2 × 3 3/4\" (300.4 × 420.4 × 9....</td>\n",
       "      <td>NaN</td>\n",
       "      <td>TR16516</td>\n",
       "      <td>Painting</td>\n",
       "      <td>Painting &amp; Sculpture</td>\n",
       "      <td>...</td>\n",
       "      <td>NaN</td>\n",
       "      <td>American, born Ivory Coast, 1957</td>\n",
       "      <td>American</td>\n",
       "      <td>NaN</td>\n",
       "      <td>1957.0</td>\n",
       "      <td>0.0</td>\n",
       "      <td>126260.736392</td>\n",
       "      <td>1.399577</td>\n",
       "      <td>N</td>\n",
       "      <td>2011.0</td>\n",
       "    </tr>\n",
       "    <tr>\n",
       "      <th>2348</th>\n",
       "      <td>Lot 111113 (flare 1)</td>\n",
       "      <td>Donald Moffett</td>\n",
       "      <td>7435.0</td>\n",
       "      <td>2013</td>\n",
       "      <td>Acrylic and lacquer on linen with cotton and a...</td>\n",
       "      <td>54 × 44\" (137.2 × 111.8 cm)</td>\n",
       "      <td>NaN</td>\n",
       "      <td>TR16517</td>\n",
       "      <td>Painting</td>\n",
       "      <td>Painting &amp; Sculpture</td>\n",
       "      <td>...</td>\n",
       "      <td>NaN</td>\n",
       "      <td>American, born 1955</td>\n",
       "      <td>American</td>\n",
       "      <td>male</td>\n",
       "      <td>1955.0</td>\n",
       "      <td>0.0</td>\n",
       "      <td>15329.062916</td>\n",
       "      <td>0.814815</td>\n",
       "      <td>N</td>\n",
       "      <td>2013.0</td>\n",
       "    </tr>\n",
       "    <tr>\n",
       "      <th>2349</th>\n",
       "      <td>Unknown Pleasures</td>\n",
       "      <td>Matthew Wong</td>\n",
       "      <td>132956.0</td>\n",
       "      <td>2019</td>\n",
       "      <td>Oil on canvas</td>\n",
       "      <td>65 × 65\" (165.1 × 165.1 cm)</td>\n",
       "      <td>NaN</td>\n",
       "      <td>TR16518</td>\n",
       "      <td>Painting</td>\n",
       "      <td>Painting &amp; Sculpture</td>\n",
       "      <td>...</td>\n",
       "      <td>NaN</td>\n",
       "      <td>Canadian, 1984 - 2019</td>\n",
       "      <td>NaN</td>\n",
       "      <td>NaN</td>\n",
       "      <td>0.0</td>\n",
       "      <td>0.0</td>\n",
       "      <td>27258.119032</td>\n",
       "      <td>1.000000</td>\n",
       "      <td>Y</td>\n",
       "      <td>2019.0</td>\n",
       "    </tr>\n",
       "  </tbody>\n",
       "</table>\n",
       "<p>2350 rows × 30 columns</p>\n",
       "</div>"
      ],
      "text/plain": [
       "                           Title          Artist  ConstituentID  \\\n",
       "0             Rope and People, I       Joan Miró         4016.0   \n",
       "1            Fire in the Evening       Paul Klee         3130.0   \n",
       "2     Portrait of an Equilibrist       Paul Klee         3130.0   \n",
       "3                         Guitar   Pablo Picasso         4609.0   \n",
       "4                    Grandmother     Arthur Dove         1602.0   \n",
       "...                          ...             ...            ...   \n",
       "2345                Zacimba Gaba    Dalton Paula       132719.0   \n",
       "2346                       Zumbi    Dalton Paula       132719.0   \n",
       "2347                  Vertigo #2  Ouattara Watts       132954.0   \n",
       "2348        Lot 111113 (flare 1)  Donald Moffett         7435.0   \n",
       "2349           Unknown Pleasures    Matthew Wong       132956.0   \n",
       "\n",
       "                           Date  \\\n",
       "0     Barcelona, March 27, 1935   \n",
       "1                          1929   \n",
       "2                          1927   \n",
       "3             Paris, early 1919   \n",
       "4                          1925   \n",
       "...                         ...   \n",
       "2345                       2020   \n",
       "2346                       2020   \n",
       "2347                       2011   \n",
       "2348                       2013   \n",
       "2349                       2019   \n",
       "\n",
       "                                                 Medium  \\\n",
       "0     Oil on cardboard mounted on wood, with coil of...   \n",
       "1                                      Oil on cardboard   \n",
       "2     Oil and collage on cardboard over wood with pa...   \n",
       "3              Oil, charcoal and pinned paper on canvas   \n",
       "4     Shingles, needlepoint, page from Concordance, ...   \n",
       "...                                                 ...   \n",
       "2345  Oil, pencil, and gold leaf on two joined canvases   \n",
       "2346  Oil, pencil, and gold leaf on two joined canvases   \n",
       "2347  Acrylic, paper pulp, cut and pasted fabrics, a...   \n",
       "2348  Acrylic and lacquer on linen with cotton and a...   \n",
       "2349                                      Oil on canvas   \n",
       "\n",
       "                                             Dimensions  \\\n",
       "0                    41 1/4 x 29 3/8\" (104.8 x 74.6 cm)   \n",
       "1                     13 3/8 x 13 1/4\" (33.8 x 33.3 cm)   \n",
       "2                       24 7/8 x 15 3/4\" (63.2 x 40 cm)   \n",
       "3                           7' 1\" x 31\" (216 x 78.8 cm)   \n",
       "4                         20 x 21 1/4\" (50.8 x 54.0 cm)   \n",
       "...                                                 ...   \n",
       "2345          24 × 17 3/4\" (61 × 45.1 cm), in two parts   \n",
       "2346          24 × 17 3/4\" (61 × 45.1 cm), in two parts   \n",
       "2347  118 1/4 × 165 1/2 × 3 3/4\" (300.4 × 420.4 × 9....   \n",
       "2348                        54 × 44\" (137.2 × 111.8 cm)   \n",
       "2349                        65 × 65\" (165.1 × 165.1 cm)   \n",
       "\n",
       "                                   CreditLine AccessionNumber Classification  \\\n",
       "0          Gift of the Pierre Matisse Gallery         71.1936       Painting   \n",
       "1     Mr. and Mrs. Joachim Jean Aberbach Fund        153.1970       Painting   \n",
       "2                  Mrs. Simon Guggenheim Fund        195.1966       Painting   \n",
       "3                  Gift of A. Conger Goodyear        384.1955       Painting   \n",
       "4     Gift of Philip L. Goodwin (by exchange)        636.1939       Painting   \n",
       "...                                       ...             ...            ...   \n",
       "2345                                      NaN       TR16514.1       Painting   \n",
       "2346                                      NaN       TR16514.2       Painting   \n",
       "2347                                      NaN         TR16516       Painting   \n",
       "2348                                      NaN         TR16517       Painting   \n",
       "2349                                      NaN         TR16518       Painting   \n",
       "\n",
       "                Department  ... Duration (sec.)  \\\n",
       "0     Painting & Sculpture  ...             NaN   \n",
       "1     Painting & Sculpture  ...             NaN   \n",
       "2     Painting & Sculpture  ...             NaN   \n",
       "3     Painting & Sculpture  ...             NaN   \n",
       "4     Painting & Sculpture  ...             NaN   \n",
       "...                    ...  ...             ...   \n",
       "2345  Painting & Sculpture  ...             NaN   \n",
       "2346  Painting & Sculpture  ...             NaN   \n",
       "2347  Painting & Sculpture  ...             NaN   \n",
       "2348  Painting & Sculpture  ...             NaN   \n",
       "2349  Painting & Sculpture  ...             NaN   \n",
       "\n",
       "                                ArtistBio  Nationality  Gender  BeginDate  \\\n",
       "0                      Spanish, 1893–1983      Spanish    male     1893.0   \n",
       "1     German, born Switzerland. 1879–1940       German    male     1879.0   \n",
       "2     German, born Switzerland. 1879–1940       German    male     1879.0   \n",
       "3                      Spanish, 1881–1973      Spanish    male     1881.0   \n",
       "4                     American, 1880–1946     American    male     1880.0   \n",
       "...                                   ...          ...     ...        ...   \n",
       "2345                 Brazilian, born 1982    Brazilian     NaN     1982.0   \n",
       "2346                 Brazilian, born 1982    Brazilian     NaN     1982.0   \n",
       "2347     American, born Ivory Coast, 1957     American     NaN     1957.0   \n",
       "2348                  American, born 1955     American    male     1955.0   \n",
       "2349                Canadian, 1984 - 2019          NaN     NaN        0.0   \n",
       "\n",
       "      EndDate    Area (cm^2)    Aspect  OilPainting  YearCreated  \n",
       "0      1983.0    7818.080000  0.711832            Y       1935.0  \n",
       "1      1940.0    1125.540000  0.985207            Y       1929.0  \n",
       "2      1940.0    2219.040000  0.610282            Y       1927.0  \n",
       "3      1973.0   16991.330000  0.364521            Y       1919.0  \n",
       "4      1946.0    2743.200000  1.062992            N       1925.0  \n",
       "...       ...            ...       ...          ...          ...  \n",
       "2345      0.0    2748.392594  0.739583            Y       2020.0  \n",
       "2346      0.0    2748.392594  0.739583            Y       2020.0  \n",
       "2347      0.0  126260.736392  1.399577            N       2011.0  \n",
       "2348      0.0   15329.062916  0.814815            N       2013.0  \n",
       "2349      0.0   27258.119032  1.000000            Y       2019.0  \n",
       "\n",
       "[2350 rows x 30 columns]"
      ]
     },
     "execution_count": 2,
     "metadata": {},
     "output_type": "execute_result"
    }
   ],
   "source": [
    "# Import the cleaned MoMA paintings with artist information dataset (CSV file)\n",
    "# The file location\n",
    "file_url = 'https://raw.githubusercontent.com/ncsu-libraries-data-vis/teaching-datasets/main/moma_data/moma_paintings_final.csv'\n",
    "\n",
    "# Read in the file and print out the DataFrame\n",
    "paintings = pd.read_csv(file_url)\n",
    "paintings"
   ]
  },
  {
   "cell_type": "markdown",
   "metadata": {},
   "source": [
    "### The pandas plot method\n",
    "\n",
    "Plotting data with pandas can be accomplished using the `plot()` method available on both `Series` and `DataFrame` objects. By default, when calling the `plot()` method pandas creates a `line` plot, assuming the data referenced for the plot is numeric. By default, pandas uses the Python visualization library `matplotlib` as the plotting backend for the `plot()` method.\n",
    "\n",
    "We will explore the results of calling `plot()` on the entire `paintings` DataFrame and one column, `Area (cm^2)`, from our DataFrame (a Series)."
   ]
  },
  {
   "cell_type": "code",
   "execution_count": 3,
   "metadata": {},
   "outputs": [
    {
     "data": {
      "text/plain": [
       "<AxesSubplot:>"
      ]
     },
     "execution_count": 3,
     "metadata": {},
     "output_type": "execute_result"
    },
    {
     "data": {
      "image/png": "[encoded data removed]",
      "text/plain": [
       "<Figure size 432x288 with 1 Axes>"
      ]
     },
     "metadata": {
      "needs_background": "light"
     },
     "output_type": "display_data"
    }
   ],
   "source": [
    "# Call the plot() method on the entire paintings DataFrame\n",
    "paintings.plot()"
   ]
  },
  {
   "cell_type": "code",
   "execution_count": 7,
   "metadata": {},
   "outputs": [
    {
     "data": {
      "text/plain": [
       "<AxesSubplot:>"
      ]
     },
     "execution_count": 7,
     "metadata": {},
     "output_type": "execute_result"
    },
    {
     "data": {
      "image/png": "[encoded data removed]",
      "text/plain": [
       "<Figure size 432x288 with 1 Axes>"
      ]
     },
     "metadata": {
      "needs_background": "light"
     },
     "output_type": "display_data"
    }
   ],
   "source": [
    "# Call the plot() method on the column \"Area (cm^2)\"\n",
    "paintings['Aspect'].plot()"
   ]
  },
  {
   "cell_type": "markdown",
   "metadata": {},
   "source": [
    "### Other plot methods using pandas `plot`\n",
    "\n",
    "Beyond the default line plot provided by the `plot()` method, pandas provides several other plotting methods to create other types of plots such as bar plots, scatter plots, and histograms (here is [a full list of pandas plot methods](https://pandas.pydata.org/pandas-docs/stable/user_guide/visualization.html#other-plots)).\n",
    "\n",
    "To create a different type of plot we use the general syntax `DataFrame.plot.<kind>`, where `<kind>` is the type of plot you want to create. Typically, the most difficult part of creating a plot is getting the data in the correct form for the type of plot being used. We will often use various filtering, aggregation, or grouping methods prior to creating a plot to prepare the data for plotting.\n",
    "\n",
    "We will demonstrate the pandas plotting methods `hist()`, `bar()` and `barh()`, and `scatter()` by exploring the `paintings` DataFrame data."
   ]
  },
  {
   "cell_type": "markdown",
   "metadata": {},
   "source": [
    "#### Histograms\n",
    "\n",
    "A great way to begin exploring a variable is to analyze the distribution of the observations.\n",
    "\n",
    "We will use the `hist()` plot method to create a histogram and view the distribution of the year in which a painting was created (column labeled `YearCreated`)"
   ]
  },
  {
   "cell_type": "code",
   "execution_count": 37,
   "metadata": {},
   "outputs": [
    {
     "data": {
      "text/plain": [
       "<AxesSubplot:ylabel='Frequency'>"
      ]
     },
     "execution_count": 37,
     "metadata": {},
     "output_type": "execute_result"
    },
    {
     "data": {
      "image/png": "[encoded data removed]",
      "text/plain": [
       "<Figure size 432x288 with 1 Axes>"
      ]
     },
     "metadata": {
      "needs_background": "light"
     },
     "output_type": "display_data"
    }
   ],
   "source": [
    "# Create a histogram plot of the values in the column \"YearCreated\"\n",
    "paintings['YearCreated'].plot.hist()"
   ]
  },
  {
   "cell_type": "markdown",
   "metadata": {},
   "source": [
    "Each plot method has specified keyword arguments that can be passed into the method call to set various parameters of a plot. For example, we can pass a value to the parameter `bins` to set the number of bins to use in a histogram."
   ]
  },
  {
   "cell_type": "code",
   "execution_count": 35,
   "metadata": {},
   "outputs": [
    {
     "data": {
      "text/plain": [
       "<AxesSubplot:ylabel='Frequency'>"
      ]
     },
     "execution_count": 35,
     "metadata": {},
     "output_type": "execute_result"
    },
    {
     "data": {
      "image/png": "[encoded data removed]",
      "text/plain": [
       "<Figure size 432x288 with 1 Axes>"
      ]
     },
     "metadata": {
      "needs_background": "light"
     },
     "output_type": "display_data"
    }
   ],
   "source": [
    "# Create a histogram plot of the values in the column \"YearCreated\" with 30 bins\n",
    "paintings['YearCreated'].plot.hist(bins=30)"
   ]
  },
  {
   "cell_type": "markdown",
   "metadata": {},
   "source": [
    "#### Bar plots\n",
    "\n",
    "Bar charts are useful for comparing observations of a variable between different categories of data. For example, it may be interesting to observe the number of paintings in the MoMA collection based on gender or nationality.\n",
    "\n",
    "We will use bar plot methods (`bar()` and `barh()`) to explore the number of paintings created by artists by gender and nationality. This will require some reformatting of the data using DataFrame methods such as `value_counts()` and filtering. We will also implement some of the keyword arguments used with these methods."
   ]
  },
  {
   "cell_type": "code",
   "execution_count": 69,
   "metadata": {},
   "outputs": [
    {
     "data": {
      "text/plain": [
       "<AxesSubplot:>"
      ]
     },
     "execution_count": 69,
     "metadata": {},
     "output_type": "execute_result"
    },
    {
     "data": {
      "image/png": "[encoded data removed]",
      "text/plain": [
       "<Figure size 432x288 with 1 Axes>"
      ]
     },
     "metadata": {
      "needs_background": "light"
     },
     "output_type": "display_data"
    }
   ],
   "source": [
    "# Create a bar plot comparing the total number of paintings by gender\n",
    "paintings['Gender'].value_counts().plot.bar(rot=0)"
   ]
  },
  {
   "cell_type": "code",
   "execution_count": 75,
   "metadata": {},
   "outputs": [
    {
     "data": {
      "text/plain": [
       "<AxesSubplot:>"
      ]
     },
     "execution_count": 75,
     "metadata": {},
     "output_type": "execute_result"
    },
    {
     "data": {
      "image/png": "[encoded data removed]",
      "text/plain": [
       "<Figure size 432x288 with 1 Axes>"
      ]
     },
     "metadata": {
      "needs_background": "light"
     },
     "output_type": "display_data"
    }
   ],
   "source": [
    "# Create a pandas Series of the value counts of paintings by \"Nationality\"\n",
    "# filtered to only include the ten nationalities with the most paintings\n",
    "top_nationalities = paintings['Nationality'].value_counts().iloc[:10]\n",
    "\n",
    "# Create a horizontal bar plot of the number of paintings each of the ten\n",
    "# most represented nationalities has in the collection\n",
    "top_nationalities.plot.barh()"
   ]
  },
  {
   "cell_type": "markdown",
   "metadata": {},
   "source": [
    "#### Scatter plots\n",
    "\n",
    "Scatter plots are useful for comparing relationships between two, or more, variables. For example, one way to observe general trends in the aspect ratio of the paintings is to plot each painting as a point by its width (on the horizontal axis) and height (on the vertical axis). The position at which the points lie on the plot will give us a general idea of whether more paintings are tall, square, or wide.\n",
    "\n",
    "We will create a scatter plot of the width (`Width (cm)`) against the height (`Height (cm)`) of a subset of the `paintings` DataFrame that includes only paintings with a total size of less than or equal to 10m<sup>2</sup>"
   ]
  },
  {
   "cell_type": "code",
   "execution_count": 90,
   "metadata": {},
   "outputs": [
    {
     "data": {
      "text/plain": [
       "<AxesSubplot:xlabel='Width (cm)', ylabel='Height (cm)'>"
      ]
     },
     "execution_count": 90,
     "metadata": {},
     "output_type": "execute_result"
    },
    {
     "data": {
      "image/png": "[encoded data removed]",
      "text/plain": [
       "<Figure size 432x288 with 1 Axes>"
      ]
     },
     "metadata": {
      "needs_background": "light"
     },
     "output_type": "display_data"
    }
   ],
   "source": [
    "# Create a new DataFrame consisting of only paintings smaller than 10 m^2\n",
    "# (\"Area (cm^2) < 100000\")\n",
    "small_paintings = paintings[(paintings['Area (cm^2)'] <= 100000)]\n",
    "\n",
    "# Create a scatter plot of the new DataFrame, plotting \"Width (cm)\" on the\n",
    "# horizontal axis and \"Height (cm)\" on the vertical axis\n",
    "small_paintings.plot.scatter(x='Width (cm)', y='Height (cm)', alpha=0.5)"
   ]
  },
  {
   "cell_type": "markdown",
   "metadata": {},
   "source": [
    "### Styling plots\n",
    "\n",
    "TODO"
   ]
  },
  {
   "cell_type": "code",
   "execution_count": null,
   "metadata": {},
   "outputs": [],
   "source": []
  },
  {
   "cell_type": "markdown",
   "metadata": {},
   "source": [
    "### Other plotting libraries\n",
    "\n",
    "TODO"
   ]
  },
  {
   "cell_type": "markdown",
   "metadata": {},
   "source": [
    "#### Seaborn\n",
    "\n",
    "TODO"
   ]
  },
  {
   "cell_type": "code",
   "execution_count": null,
   "metadata": {},
   "outputs": [],
   "source": []
  },
  {
   "cell_type": "markdown",
   "metadata": {},
   "source": [
    "#### Altair\n",
    "\n",
    "TODO"
   ]
  }
 ],
 "metadata": {
  "interpreter": {
   "hash": "0bb8fac8a0c82f4f5ccbcc488a26fe869e7789c40997937e38e89b37cd70a2e8"
  },
  "kernelspec": {
   "display_name": "Python 3.8.5 64-bit ('base': conda)",
   "name": "python3"
  },
  "language_info": {
   "codemirror_mode": {
    "name": "ipython",
    "version": 3
   },
   "file_extension": ".py",
   "mimetype": "text/x-python",
   "name": "python",
   "nbconvert_exporter": "python",
   "pygments_lexer": "ipython3",
   "version": "3.8.5"
  },
  "orig_nbformat": 4
 },
 "nbformat": 4,
 "nbformat_minor": 2
}
