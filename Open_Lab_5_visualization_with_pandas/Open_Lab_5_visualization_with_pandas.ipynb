{
 "cells": [
  {
   "cell_type": "markdown",
   "metadata": {},
   "source": [
    "# Python Open Labs: Visualization with pandas\n",
    "\n",
    "## Setup\n",
    "\n",
    "With this Google Colaboratory (Colab) notebook open, click the \"Copy to Drive\" button that appears in the menu bar. The notebook will then be attached to your own user account, so you can edit it in any way you like -- you can even take notes directly in the notebook.\n",
    "\n",
    "\n",
    "## Open Labs agenda\n",
    "\n",
    "1. **Guided activity**: One of the instructors will share their screen to work through the guided activity and teach concepts along the way.\n",
    "\n",
    "2. **Open lab time**: After the guided portion of the Open Lab, the rest of the time is for you to ask questions, work collaboratively, or have self-guided practice time. You will have access to instructors and peers for questions and support.\n",
    "\n",
    "\n",
    "## Learning objectives\n",
    "\n",
    "By the end of our workshop today, we hope you'll understand basic methods for visualizing data with pandas, manipulating plots, and have an awareness of other Python visualization libraries.\n",
    "\n",
    "## Today's Topics\n",
    "\n",
    "- Using the Pandas `plot()` method\n",
    "- Creating histograms, bar plots, and scatter plots with pandas and matplotlib\n",
    "- Styling plots\n",
    "- Saving plots as high resolution images\n",
    "- Other plotting libraries like Seaborn and Altair\n",
    "\n",
    "## Questions during the workshop\n",
    "\n",
    "Please feel free to ask questions throughout the workshop.\n",
    "\n",
    "We have a second instructor who will available during the workshop. They will answer as able, and will collect questions with answers that might help everyone to be answered at the end of the workshop.\n",
    "\n",
    "The open lab time is when you will be able to ask more questions and work together on the exercises."
   ]
  },
  {
   "cell_type": "markdown",
   "metadata": {},
   "source": [
    "## Guided Instruction\n",
    "\n",
    "In this Open Lab we're introducing how to use the pandas library with the visualization library matplotlib and other visualization libraries for exploring data.\n",
    "\n",
    "In this section, we will work through examples using data from the [Museum of Modern Art (MoMA) research dataset](https://github.com/MuseumofModernArt/collection) containing records of all of the works that have been cataloged in the database of the MoMA collection.\n",
    "\n",
    "> \"The Museum’s website features 89,695 artworks from 26,494 artists. This research dataset contains 138,151 records, representing all of the works that have been accessioned into MoMA’s collection and cataloged in our database. It includes basic metadata for each work, including title, artist, date made, medium, dimensions, and date acquired by the Museum. Some of these records have incomplete information and are noted as “not Curator Approved.\" - [MoMA Github repository for collection data](https://github.com/MuseumofModernArt/collection)\n",
    "\n",
    "We have prepared a dataset to use in the following activities that consists of MoMA artworks classified as paintings, artist information for each painting, and additional variables generated for exploring the dataset. We will be referencing the data that we have prepared in our [Github repository for teaching datasets](https://github.com/ncsu-libraries-data-vis/teaching-datasets/tree/main/moma_data)."
   ]
  },
  {
   "cell_type": "code",
   "execution_count": null,
   "metadata": {},
   "outputs": [],
   "source": [
    "# Import the Pandas library as pd (callable in our code as pd)\n"
   ]
  },
  {
   "cell_type": "markdown",
   "metadata": {},
   "source": [
    "### Load the dataset"
   ]
  },
  {
   "cell_type": "code",
   "execution_count": null,
   "metadata": {},
   "outputs": [],
   "source": [
    "# Import the cleaned MoMA paintings with artist information dataset (CSV file)\n",
    "# The file location\n",
    "file_url = 'https://raw.githubusercontent.com/ncsu-libraries-data-vis/teaching-datasets/main/moma_data/moma_paintings_final.csv'\n",
    "\n",
    "# Read in the file and print out the DataFrame\n"
   ]
  },
  {
   "cell_type": "markdown",
   "metadata": {},
   "source": [
    "### The pandas plot method\n",
    "\n",
    "Plotting data with pandas can be accomplished using the `plot()` method available on both `Series` and `DataFrame` objects. By default, when calling the `plot()` method pandas creates a `line` plot, assuming the data referenced for the plot is numeric. By default, pandas uses the Python visualization library `matplotlib` as the plotting backend for the `plot()` method.\n",
    "\n",
    "We will explore the results of calling `plot()` on the entire `paintings` DataFrame and one column, `Area (cm^2)`, from our DataFrame (a Series)."
   ]
  },
  {
   "cell_type": "code",
   "execution_count": null,
   "metadata": {},
   "outputs": [],
   "source": [
    "# Call the plot() method on the entire paintings DataFrame\n"
   ]
  },
  {
   "cell_type": "code",
   "execution_count": null,
   "metadata": {},
   "outputs": [],
   "source": [
    "# Call the plot() method on the column \"Area (cm^2)\"\n"
   ]
  },
  {
   "cell_type": "markdown",
   "metadata": {},
   "source": [
    "### Other plot methods using pandas `plot`\n",
    "\n",
    "Beyond the default line plot provided by the `plot()` method, pandas provides several other plotting methods to create other types of plots such as bar plots, scatter plots, and histograms (here is [a full list of pandas plot methods](https://pandas.pydata.org/pandas-docs/stable/user_guide/visualization.html#other-plots)).\n",
    "\n",
    "To create a different type of plot we use the general syntax `DataFrame.plot.<kind>`, where `<kind>` is the type of plot you want to create. Typically, the most difficult part of creating a plot is getting the data in the correct form for the type of plot being used. We will often use various filtering, aggregation, or grouping methods prior to creating a plot to prepare the data for plotting.\n",
    "\n",
    "We will demonstrate the pandas plotting methods `hist()`, `bar()` and `barh()`, and `scatter()` by exploring the `paintings` DataFrame data."
   ]
  },
  {
   "cell_type": "markdown",
   "metadata": {},
   "source": [
    "#### Histograms\n",
    "\n",
    "A great way to begin exploring a variable is to analyze the distribution of the observations.\n",
    "\n",
    "We will use the `hist()` plot method to create a histogram and view the distribution of the year in which a painting was created (column labeled `YearCreated`)"
   ]
  },
  {
   "cell_type": "code",
   "execution_count": null,
   "metadata": {},
   "outputs": [],
   "source": [
    "# Create a histogram plot of the values in the column \"YearCreated\"\n"
   ]
  },
  {
   "cell_type": "markdown",
   "metadata": {},
   "source": [
    "Each plot method has specified keyword arguments that can be passed into the method call to set various parameters of a plot. For example, we can pass a value to the parameter `bins` to set the number of bins to use in a histogram."
   ]
  },
  {
   "cell_type": "code",
   "execution_count": null,
   "metadata": {},
   "outputs": [],
   "source": [
    "# Create a histogram plot of the values in the column \"YearCreated\" with 30 bins\n"
   ]
  },
  {
   "cell_type": "markdown",
   "metadata": {},
   "source": [
    "#### Bar plots\n",
    "\n",
    "Bar charts are useful for comparing observations of a variable between different categories of data. For example, it may be interesting to observe the number of paintings in the MoMA collection based on gender or nationality.\n",
    "\n",
    "We will use bar plot methods (`bar()` and `barh()`) to explore the number of paintings created by artists by gender and nationality. This will require some reformatting of the data using DataFrame methods such as `value_counts()` and filtering. We will also implement some of the keyword arguments used with these methods."
   ]
  },
  {
   "cell_type": "code",
   "execution_count": null,
   "metadata": {},
   "outputs": [],
   "source": [
    "# Create a bar plot comparing the total number of paintings by gender\n"
   ]
  },
  {
   "cell_type": "code",
   "execution_count": null,
   "metadata": {},
   "outputs": [],
   "source": [
    "# Create a pandas Series of the value counts of paintings by \"Nationality\"\n",
    "# filtered to only include the ten nationalities with the most paintings\n",
    "\n",
    "\n",
    "# Create a horizontal bar plot of the number of paintings each of the ten\n",
    "# most represented nationalities has in the collection\n"
   ]
  },
  {
   "cell_type": "markdown",
   "metadata": {},
   "source": [
    "#### Scatter plots\n",
    "\n",
    "Scatter plots are useful for comparing relationships between two, or more, variables. For example, one way to observe general trends in the aspect ratio of the paintings is to plot each painting as a point by its width (on the horizontal axis) and height (on the vertical axis). The position at which the points lie on the plot will give us a general idea of whether more paintings are tall, square, or wide.\n",
    "\n",
    "We will create a scatter plot of the width (`Width (cm)`) against the height (`Height (cm)`) of a subset of the `paintings` DataFrame that includes only paintings with a total size of less than or equal to 10m<sup>2</sup>"
   ]
  },
  {
   "cell_type": "code",
   "execution_count": null,
   "metadata": {},
   "outputs": [],
   "source": [
    "# Create a new DataFrame consisting of only paintings smaller than 10 m^2\n",
    "# (\"Area (cm^2) < 100000\")\n",
    "\n",
    "\n",
    "# Create a scatter plot of the new DataFrame, plotting \"Width (cm)\" on the\n",
    "# horizontal axis and \"Height (cm)\" on the vertical axis\n"
   ]
  },
  {
   "cell_type": "markdown",
   "metadata": {},
   "source": [
    "### Styling plots\n",
    "\n",
    "Often it is useful to edit some of the default stylings of a plot such as the plot size or marker colors or add additional styles such as labels and titles. Styles can be set for a single plot or at the global level, applying to all plots created in a notebook."
   ]
  },
  {
   "cell_type": "markdown",
   "metadata": {},
   "source": [
    "#### Setting global plot styles\n",
    "\n",
    "Global style parameters for all plots can be set using the matplotlib pyplot interface. This allows us to do things like set a standard figure size, change default styles, or use a [predefined style sheet](https://tonysyu.github.io/raw_content/matplotlib-style-gallery/gallery.html) to style all the plots in our notebook.\n",
    "\n",
    "We must first import the `pyplot` interface from the `matplotlib` library–it is standard to use the alias `plt`. For example: `from matplotlib import pyplot as plt`"
   ]
  },
  {
   "cell_type": "code",
   "execution_count": null,
   "metadata": {},
   "outputs": [],
   "source": [
    "# Import the matplotlib pyplot interface as plt (callable in our code as plt)\n"
   ]
  },
  {
   "cell_type": "markdown",
   "metadata": {},
   "source": [
    "After importing `pyplot` we will use the method `plt.style.use()` to set [the global style of our plots using a predefined style sheet](https://matplotlib.org/stable/tutorials/introductory/customizing.html) based on the popular R graphing library ggplot. This method takes one argument, the string name of a predefined style sheet or a path to a user defined style sheet. We are using the predefined ggplot style sheet, so we will pass in the string `ggplot`."
   ]
  },
  {
   "cell_type": "code",
   "execution_count": null,
   "metadata": {},
   "outputs": [],
   "source": [
    "# Set the default graphic style of plots in the notebook to 'ggplot'\n",
    "\n",
    "\n",
    "# Recreate a horizontal bar plot of the number of paintings each of the ten\n",
    "# most represented nationalities has in the collection with the new global style\n"
   ]
  },
  {
   "cell_type": "markdown",
   "metadata": {},
   "source": [
    "#### Set the style of the plot\n",
    "\n",
    "Specific plot styles can be set by passing various keyword arguments into the plot method you are using. There are some style properties that are universal for all plot types (for example, the color of a symbol, the size of the figure, etc.), while some style properties are specific to certain plot types (for example, the shape of a scatter plot point).\n",
    "\n",
    "We will recreate the previous horizontal bar chart and demonstrate how to set the color (`color='hotpink'`), outline (`edgecolor='purple'`), and hatching (`hatch='//'`) of a the bar symbols and the size of the plot (`figsize=[8, 6]`) using style keyword arguments."
   ]
  },
  {
   "cell_type": "code",
   "execution_count": null,
   "metadata": {},
   "outputs": [],
   "source": [
    "# Recreate a horizontal bar plot of the number of paintings each of the ten\n",
    "# most represented nationalities has in the collection using style keyword\n",
    "# arguments\n"
   ]
  },
  {
   "cell_type": "markdown",
   "metadata": {},
   "source": [
    "To make our chart more descriptive and easy to interperet, we can set the plot title and axis labels. We will store our plot as a matplotlib `Axes` object in a variable by calling the `plot.barh()` method. We can then call the methods `set_title()`, `set_xlabel()`, and `set_ylabel()` on this variable to set a descriptive title, x axis label, and y axis label, respectively.\n",
    "\n",
    "Note that you can also set these labels in the `plot()` method using keyword arguments (e.g., `xlabel`, `ylabel`, `title`) similar to the previous way in which we set style parameters."
   ]
  },
  {
   "cell_type": "code",
   "execution_count": null,
   "metadata": {},
   "outputs": [],
   "source": [
    "# Create a variable that stores the plot\n",
    "\n",
    "\n",
    "# Change titles and axis labels with set_title(), set_xlabel(), and set_ylabel()\n"
   ]
  },
  {
   "cell_type": "markdown",
   "metadata": {},
   "source": [
    "#### Saving a plot\n",
    "\n",
    "`matplotlib` provides functionality for saving a figure as an image using the method `savefig()`. We need to get the figure from our plot by calling `get_figure` on the matplotlib `Axes` object and then calling the method `savefig()`."
   ]
  },
  {
   "cell_type": "code",
   "execution_count": null,
   "metadata": {},
   "outputs": [],
   "source": [
    "# Save the top nationalities plot as a png\n",
    "\n",
    "\n",
    "# Save a high resolution version of the plot by setting a high dpi\n",
    "\n",
    "\n",
    "# Save a vectorized version of the plot (svg)\n"
   ]
  },
  {
   "cell_type": "markdown",
   "metadata": {},
   "source": [
    "### Other plotting libraries\n",
    "\n",
    "There are many other Python visualization libraries beyond `matplotlib`. Depending on your visualization needs, there are libraries that offer additional features such as advanced plot types, enhanced styling options, the ability to plot large datasets, and interactivity. We will introduce two popular plotting libraries, **Seaborn** and **Altair**, that provide additional functionality while also working well with pandas data structures.\n",
    "\n",
    "You can find an exhaustive overview of Python visualization tools on the [PyViz website](https://pyviz.org/index.html)."
   ]
  },
  {
   "cell_type": "markdown",
   "metadata": {},
   "source": [
    "#### Seaborn\n",
    "\n",
    "Seaborn is a \"Matplotlib-based high-level interface for drawing statistical graphics.\" Seaborn builds upon the functionality of matplotlib and provides more robust options. You can learn more and find documentation on the [seaborn website](https://seaborn.pydata.org/)"
   ]
  },
  {
   "cell_type": "code",
   "execution_count": null,
   "metadata": {},
   "outputs": [],
   "source": [
    "# Import the Seaborn library as sns (callable in our code as sns)\n"
   ]
  },
  {
   "cell_type": "markdown",
   "metadata": {},
   "source": [
    "We will use the seaborn `scatterplot()` method to generate the same scatter plot we created earlier of the width and height of smaller paintings, but this time will use seaborn's easy functionality fo encoding data into the color of the scatter plot points.\n",
    "\n",
    "With most seaborn plotting methods we pass in keyword arguments to specify the data source (`data=small_paintings`) and the specific encodings of the data in the plot, in our case the horizontal axis variable (`x='Width (cm)'`), the vertical axis variable (`y='Height (cm)'`), and the variable represented by color (`hue='AspectString'`)."
   ]
  },
  {
   "cell_type": "code",
   "execution_count": null,
   "metadata": {},
   "outputs": [],
   "source": [
    "# Create a seaborn scatter plot, plotting \"Width (cm)\" on the\n",
    "# horizontal axis and \"Height (cm)\" on the vertical axis and using\n",
    "# \"AspectString\" to define the color of each point\n"
   ]
  },
  {
   "cell_type": "markdown",
   "metadata": {},
   "source": [
    "#### Altair\n",
    "\n",
    "Altair is an open-source, declarative visualization library. It is based on the popular JSON-based plotting library Vega-lite and provides a rich API for creating stylized and interactive visualizations. You can learn more and find documentation on the [Altair website](https://altair-viz.github.io/index.html)."
   ]
  },
  {
   "cell_type": "code",
   "execution_count": null,
   "metadata": {},
   "outputs": [],
   "source": [
    "# Import the Altair library as alt (callable in our code as alt)\n"
   ]
  },
  {
   "cell_type": "markdown",
   "metadata": {},
   "source": [
    "We will use the Altair visualization library to recreate the width and height scatter plot of small paintings. This time we will incorporate interactivity with the addition of a hover tooltip and the ability to pan and zoom the plot.\n",
    "\n",
    "First, Altair does not remove missing values. We do not want to plot any values that don't have a defined height or width, so we will first create a new DatFrame by removing any rows that do not have a defined value in the column `AspectString` using the pandas method `dropna()` with the keyword argument `subset=['AspectString']`\n",
    "\n",
    "Altair has a slightly different syntax style then matplotlib and seaborn. We will use the `alt` object to chain methods to first create a chart with the provided data source `alt.Chart(small_paintings)`, indicate what type of chart we want to create `alt.Chart(small_paintings).mark_point()`, and provide the encodings we want to represent with our graphical elements `alt.Chart(small_paintings).mark_point().encode()`.\n",
    "\n",
    "Inside of the `encode()` function we will pass keyword arguments to set encodings for the horizontal and vertical axes, the mark color, and the data for the tooltip:\n",
    "\n",
    "`x='Width (cm)', y='Height (cm)', color='AspectString', tooltip=['Artist', 'Title', 'Width (cm)', 'Height (cm)', 'Aspect']`\n",
    "\n",
    "Finally, we will add pan and zoom ability by chaining the `interactive()` method to the end of our code block. Our final code will look like this:\n",
    "\n",
    "```python\n",
    "alt.Chart(small_paintings).mark_point().encode(\n",
    "    x='Width (cm)',\n",
    "    y='Height (cm)',\n",
    "    color='AspectString',\n",
    "    tooltip=[\n",
    "        'Artist',\n",
    "        'Title',\n",
    "        'Width (cm)',\n",
    "        'Height (cm)',\n",
    "        'Aspect'\n",
    "    ]\n",
    ").interactive()\n",
    "```"
   ]
  },
  {
   "cell_type": "code",
   "execution_count": null,
   "metadata": {},
   "outputs": [],
   "source": [
    "# Create a new DataFrame by dropping rows that do not have a defined aspect\n",
    "# (\"AspectString\" is NaN)\n",
    "\n",
    "\n",
    "# Create an Altair point chart reprenting width on the horizontal axis, height on the vertical axis, and aspect name as color. Include a tooltip that displays\n",
    "# information about each point and include pan and zoom interactivity\n"
   ]
  },
  {
   "cell_type": "markdown",
   "metadata": {},
   "source": [
    "## Open work time\n",
    "You can use this time to ask questions, collaborate, or work on the following activities (on your own or in a group).\n",
    "\n",
    "All of the following exercises will use a dataset about photos from the MoMA collection. All of the columns are the same as the paintings dataset used above. You can run the first cell below to read in the dataset as a DataFrame."
   ]
  },
  {
   "cell_type": "code",
   "execution_count": null,
   "metadata": {},
   "outputs": [],
   "source": [
    "# URL to the photographs dataset\n",
    "photos_file_url = 'https://raw.githubusercontent.com/ncsu-libraries-data-vis/teaching-datasets/main/moma_data/moma_photographs_final.csv'\n",
    "\n",
    "# Import the photographs dataset as a DataFrame\n",
    "photos = pd.read_csv(photos_file_url)\n",
    "\n",
    "# Print the first five rows of the photos DataFrame\n",
    "photos.head()"
   ]
  },
  {
   "cell_type": "markdown",
   "metadata": {},
   "source": [
    "### Exercise 1: Create a line plot of photograph sizes\n",
    "\n",
    "Create a line plot of the values contained in the `Area (cm^2)` column of the photographs DataFrame."
   ]
  },
  {
   "cell_type": "code",
   "execution_count": null,
   "metadata": {},
   "outputs": [],
   "source": [
    "# Create a line plot of the values in the column \"Area (cm^2)\"\n"
   ]
  },
  {
   "cell_type": "markdown",
   "metadata": {},
   "source": [
    "### Exercise 2: Create a histogram of photograph creation years\n",
    "\n",
    "Create a histogram of the values contained in the `YearCreated` column of the photographs DataFrame. Set the number of bins to **47** so each bin represents approximately a five year span of time."
   ]
  },
  {
   "cell_type": "code",
   "execution_count": null,
   "metadata": {},
   "outputs": [],
   "source": [
    "# Create a histogram with 47 bins of the values in the column \"YearCreated\"\n"
   ]
  },
  {
   "cell_type": "markdown",
   "metadata": {},
   "source": [
    "### Exercise 3: Create a bar plot showing the total number of photos classified as portrait, landscape, or square aspect\n",
    "\n",
    "Create a bar plot of the value counts of unique values in the column `AspectString`. Make sure that the x axis labels are horizontal by setting the label rotation to **0**."
   ]
  },
  {
   "cell_type": "code",
   "execution_count": null,
   "metadata": {},
   "outputs": [],
   "source": [
    "# Create a bar plot of unique value counts in the column \"AspectString\"\n"
   ]
  },
  {
   "cell_type": "markdown",
   "metadata": {},
   "source": [
    "### Exercise 4: Create a horizontal bar chart showing the number of photos in the collection by the ten most represented nationalities\n",
    "\n",
    "Create a horizontal bar chart showing the count of photos by nationality (data in the `Nationality` column) for the ten nationalities with the most photos in the collection."
   ]
  },
  {
   "cell_type": "code",
   "execution_count": null,
   "metadata": {},
   "outputs": [],
   "source": [
    "# Create a horizontal bar chart of the ten largest unique value counts from the \n",
    "# column \"Nationality\"\n"
   ]
  },
  {
   "cell_type": "markdown",
   "metadata": {},
   "source": [
    "### Exercise 5: Create a scatter plot of photo width against photo height\n",
    "\n",
    "Create a scatter plot with photo width (`Width (cm)`) represented by the horizontal axis and photo height (`Height (cm)`) represented by the vertical axis."
   ]
  },
  {
   "cell_type": "code",
   "execution_count": null,
   "metadata": {},
   "outputs": [],
   "source": [
    "# Create a scatter plot of photo height versus photo width\n"
   ]
  },
  {
   "cell_type": "markdown",
   "metadata": {},
   "source": [
    "### Exercise 6: Set global and plot level styles to replot the scatter plot from Exercise 5 with new styles\n",
    "\n",
    "Create a more effective scatter plot by applying the following steps:\n",
    "\n",
    "1. Filter the photos dataset to only plot photos with a height less than 500 cm\n",
    "2. Set the global plot style through the matplotlib pyplot interface using the `fivethirtyeight` style sheet.\n",
    "3. Set the style of the points to hollow circles (`color='None'`, `edgecolor='midnightblue'`)\n",
    "4. Add a title to the plot\n",
    "\n"
   ]
  },
  {
   "cell_type": "code",
   "execution_count": null,
   "metadata": {},
   "outputs": [],
   "source": [
    "# Create a new DataFrame of photos with heights less than 500 cm\n",
    "\n",
    "\n",
    "# Set the global plot style to the \"fivethirtyeight\" style sheet\n",
    "\n",
    "\n",
    "# Create a scatter plot of photo height versus photo width with specific\n",
    "# stylings and title\n"
   ]
  },
  {
   "cell_type": "markdown",
   "metadata": {},
   "source": [
    "### Exercise 7: Save the scatter plot created in the previous exercise as a png\n",
    "\n",
    "Save a version of the photo width versus photo height plot as a png image file."
   ]
  },
  {
   "cell_type": "code",
   "execution_count": null,
   "metadata": {},
   "outputs": [],
   "source": [
    "# Save a version of the photo width versus photo height plot as a png image file\n"
   ]
  },
  {
   "cell_type": "markdown",
   "metadata": {},
   "source": [
    "### Exercise 8: Use seaborn to create a grouped bar chart showing the breakdown of aspect type for each gender\n",
    "\n",
    "Use the seaborn plotting method `countplot()` to create a grouped bar chart with gender values plotted along the x axis (`x='Gender'`) and colored grouped columns representing the count of aspect types for each gender group (`hue='AspectString'`)."
   ]
  },
  {
   "cell_type": "code",
   "execution_count": null,
   "metadata": {},
   "outputs": [],
   "source": [
    "# Create a grouped bar chart showing the count of aspect types for each gender\n",
    "# type\n"
   ]
  },
  {
   "cell_type": "markdown",
   "metadata": {},
   "source": [
    "### Exercise 9: Create an interactive scatter plot of photo widths and heights using Altair\n",
    "\n",
    "Create an interactive Altair scatter plot using the following directions:\n",
    "\n",
    "1. Filter the \"small photos\" dataset created in Exercise 6 to remove any rows that do not have a defined value in the `AspectString` column and create a new DataFrame of the filtered data\n",
    "2. Pass the filtered DataFrame into the Altair `Chart` object and use the `mark_point()` plot type\n",
    "3. Set the encoding of the plot data to:\n",
    "    ```python\n",
    "    x='Width (cm)',\n",
    "    y='Height (cm)',\n",
    "    color='AspectString',\n",
    "    tooltip=['Artist', 'Title', 'Width (cm)', 'Height (cm)', 'Aspect']\n",
    "    ```\n",
    "4. Add pan and zoom interactivity\n",
    "\n",
    "*Note:* This example demonstrates one of the limitations of Altair, working with large datasets. When you create a plot with Altair the data is formatted into JSON and stored with with the plot. The JSON plot specifications and data are embedded in the notebook (see [Why does Altair lead to such extremely large notebooks?](https://altair-viz.github.io/user_guide/faq.html#altair-faq-large-notebook)). If you create many Altair plots with large datasets this can lead to performance issues due to the size of the embedded data being stored in the notebook.\n",
    "\n",
    "To plot the data from the \"small photos\" dataset we need to first disable the warning Altair throws when trying to plot a dataset with more than 5,000 rows. Run the code in the cell below to disable the warning. **It is advised not to disable the max rows warning if you plan to create several plots with a large dataset**."
   ]
  },
  {
   "cell_type": "code",
   "execution_count": null,
   "metadata": {},
   "outputs": [],
   "source": [
    "# Disable Altair max row warning to allow plotting datasets larger than 5,000\n",
    "# rows\n",
    "alt.data_transformers.disable_max_rows()"
   ]
  },
  {
   "cell_type": "code",
   "execution_count": null,
   "metadata": {},
   "outputs": [],
   "source": [
    "# Filter the small photos dataset to remove any photos that don't have a value\n",
    "# in the column \"AspectString\"\n",
    "\n",
    "\n",
    "# Create an Altair point chart reprenting width on the horizontal axis, height\n",
    "# on the vertical axis, and aspect name as color. Include a tooltip that\n",
    "# displays information about each point and include pan and zoom interactivity\n"
   ]
  },
  {
   "cell_type": "markdown",
   "metadata": {},
   "source": [
    "## Further resources\n",
    "\n",
    "### Filled version of this notebook\n",
    "\n",
    "[Python Open Labs Week 5 filled notebook](https://colab.research.google.com/github/ncsu-libraries-data-vis/python-open-labs/blob/main/Open_Lab_5_visualization_with_pandas/filled_Open_Lab_5_visualization_with_pandas.ipynb) - a version of this notebook with all code filled in for the guided activity and exercises.\n",
    "\n",
    "### Learning resources\n",
    "\n",
    "- [Python Data Science Handbook](https://jakevdp.github.io/PythonDataScienceHandbook/index.html) - a free, online version of Jake VanderPlas' introduction to data science with Python, includes a chapter on data manipulation with pandas.\n",
    "- [Python Programming for Data Science](https://www.tomasbeuzen.com/python-programming-for-data-science/README.html) - a website providing a great overview of conducting data science with Python including pandas.\n",
    "- [Real Python](https://realpython.com/) contains a lot of different tutorials at different levels\n",
    "- [LinkedIn Learning](https://www.lynda.com/Python-training-tutorials/415-0.html) is free with NC State accounts and contains several video series for learning Python\n",
    "- [Dataquest](https://www.dataquest.io/) is a free then paid series of courses with an emphasis on data science\n",
    "\n",
    "### Finding help with pandas\n",
    "\n",
    "The [Pandas website](https://pandas.pydata.org/) and [online documentation](http://pandas.pydata.org/pandas-docs/stable/) are useful resources, and of course the indispensible [Stack Overflow has a \"pandas\" tag](https://stackoverflow.com/questions/tagged/pandas).  There is also a (much younger, much smaller) [sister site dedicated to Data Science questions that has a \"pandas\" tag](https://datascience.stackexchange.com/questions/tagged/pandas) too."
   ]
  },
  {
   "cell_type": "markdown",
   "metadata": {},
   "source": [
    "## Evaluation Survey\n",
    "Please, spend 1 minute answering these questions that help improve future workshops.\n",
    "\n",
    "[go.ncsu.edu/dvs-eval](https://go.ncsu.edu/dvs-eval)"
   ]
  },
  {
   "cell_type": "markdown",
   "metadata": {},
   "source": [
    "## Credits\n",
    "\n",
    "This workshop was created by Claire Cahoon and Walt Gurley, adapted from previous workshop materials by Scott Bailey and Simon Wiles, of Stanford Libraries."
   ]
  }
 ],
 "metadata": {
  "kernelspec": {
   "display_name": "Python 3.9.7 ('base')",
   "language": "python",
   "name": "python3"
  },
  "language_info": {
   "codemirror_mode": {
    "name": "ipython",
    "version": 3
   },
   "file_extension": ".py",
   "mimetype": "text/x-python",
   "name": "python",
   "nbconvert_exporter": "python",
   "pygments_lexer": "ipython3",
   "version": "3.9.7"
  },
  "vscode": {
   "interpreter": {
    "hash": "40d3a090f54c6569ab1632332b64b2c03c39dcf918b08424e98f38b5ae0af88f"
   }
  }
 },
 "nbformat": 4,
 "nbformat_minor": 2
}
